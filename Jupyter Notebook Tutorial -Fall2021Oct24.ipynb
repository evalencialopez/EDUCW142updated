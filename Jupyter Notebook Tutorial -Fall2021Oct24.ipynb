{
 "cells": [
  {
   "cell_type": "markdown",
   "metadata": {},
   "source": [
    "# [W142] Jupyter Notebook Tutorial - Out of School Children Rate in Uganda"
   ]
  },
  {
   "cell_type": "markdown",
   "metadata": {},
   "source": [
    "Estimated Time: 90 Minutes\n",
    "\n",
    "Created by: Yidan Zhang\n",
    "\n",
    "Modified by: Enrique Valencia López\n",
    "\n",
    "\n",
    "Today we will examine data from The World Inequality Database on Education (WIDE) to explore the powerful influence of social categories (such as wealth, gender, ethnicity, and location) on children's opportunities for a quality education and life.\n",
    "\n",
    "You will use this international dataset to begin to identify, through analysis and data visualizations, the educational disparities between groups of children in a specific country you have chosen. \n",
    "\n",
    "This Notebook serves as an example and tutorial of some data analysis and visualization techniques. You will be completing a similar Notebook for this week's assignment to tell us about the extent of educational disparities in the country you selected. \n",
    "\n",
    "\n",
    "\n"
   ]
  },
  {
   "cell_type": "markdown",
   "metadata": {},
   "source": [
    "## Jupyter Notebook Basics"
   ]
  },
  {
   "cell_type": "markdown",
   "metadata": {},
   "source": [
    "This webpage is a Jupyter “notebook”. We have created this specific notebook so that you can run code in order to perform data analysis and answer questions aimed at identifying barriers to a quality education. The process of identifying the most marginalized can be broken down into 3 steps: The first is collecting disaggregated data for key indicators, the next is to identify target groups through analyzing and triangulating data, and the final step is to explore why educational marginalization takes place so that you can come up with an action plan. In this tutorial, we will walk you through the first two steps.\n",
    "\n",
    "In a Jupyter notebook, cells are the boxes that you can populate with text for explanation or code to run a statistical analysis or create visualizations. \n",
    "\n",
    "\n",
    "To insert a cell, click the + button in the toolbar at the top of this webpage, or click insert.\n",
    "\n",
    "To select a cell type, click on the Cell in the tool bar, then cell type. Cell type \"code\" is for any cell containing codes, and the cell type \"markdown\" is for any cell containing texts, like this one. \n",
    "\n",
    "To edit a cell, double click it. \n",
    "\n",
    "To run a cell, click the cell and press Shift + Enter while the cell is selected or hit the ▶| Run button in the toolbar at the top.\n",
    "\n",
    "NOTE: In this tutorial, we will ask you to “run” functions as you go along. You won’t always see any changes within the cell. However, keep in mind that the program is running analyses in the background and in some instances will generate an output for you to look at.  \n",
    "\n",
    "To download a Notebook as a pdf file, click on File in the toolbar, then Download as, then select pdf(.pdf). This will download the notebook to your computer in the pdf format. You can submit the pdf version of the assignment notebook.\n",
    "\n",
    "Python is the programming language that we will use in this lab. Although this lab will go over some basics, should you be more interested in learning Python feel free to check out the following resources:\n",
    "\n",
    "1. [Python Tutorial](https://docs.python.org/3.5/tutorial/): Introduction to Python from the creators of Python\n",
    "2. [Composing Programs](http://composingprograms.com/pages/11-getting-started.html): An introduction to programming with Python from CS 61A\n",
    "3. [Panda tutorial](https://pandas.pydata.org/pandas-docs/stable/user_guide/10min.html):10 minutes to pandas"
   ]
  },
  {
   "cell_type": "markdown",
   "metadata": {},
   "source": [
    "## Preparation"
   ]
  },
  {
   "cell_type": "markdown",
   "metadata": {},
   "source": [
    "In this Notebook, we will go over simple techniques in Python that you can use to perform your analysis and create visualizations!\n",
    "\n",
    "\n",
    "First on our agenda is to import **<font color = ##008700>dependencies</font>** -- or packages in Python that add to the basic functions in Python. Kind of like accessorizing! For example, `matplotlib` allows us to generate graphs.\n",
    "\n"
   ]
  },
  {
   "cell_type": "code",
   "execution_count": 1,
   "metadata": {},
   "outputs": [],
   "source": [
    "#Just run this cell by click the cell and press Shift + Enter while the cell is selected \n",
    "#or hit the ▶| Run button in the toolbar at the top\n",
    "\n",
    "%matplotlib inline\n",
    "import pandas as pd\n",
    "import numpy as np\n",
    "from datascience import *\n",
    "import matplotlib.pyplot as plots\n",
    "import math as m\n",
    "import qgrid as q\n",
    "import pandas as pd\n",
    "import sys\n",
    "sys.path.insert(0, \"development\")\n",
    "import warnings\n",
    "warnings.filterwarnings('ignore')\n",
    "from IPython.display import HTML"
   ]
  },
  {
   "cell_type": "markdown",
   "metadata": {},
   "source": [
    "## <font color = #254117>Section 1: Data Cleaning</font>\n",
    "In this section, we will cover some essential functions that are useful for data cleaning. Data cleaning allows us to ensure that our data is complete and accurate. Cleaning your data will ensure that your data set has no missing, duplicate, or other erroneous values that might mislead your analysis. In order to begin filtering through information stored in a dataset, we will have to \"read in\" the information. Most of the time, information to be displayed as a table is stored as a `.csv` file which stands for **<font color = ##008700>comma separated values</font>**, a file format that is easily readable by data analysis software.\n",
    "\n",
    "The WIDE dataset we will be using in this course is already downloaded to your Jupyter Folder.\n",
    "\n",
    "To read in a file that is in your folder, we use the following command:\n",
    "\n",
    "`pd.read_csv('file_name.csv')`\n",
    "\n",
    "and in order to store it, we'll assign it a name or label. We can also run the dataset by downloading it from the linl available on the WIDE website. We run this code:"
   ]
  },
  {
   "cell_type": "code",
   "execution_count": 2,
   "metadata": {},
   "outputs": [
    {
     "name": "stdout",
     "output_type": "stream",
     "text": [
      "WIDE_2021-01-28_v1. 100%[===================>]  50.58M  67.8MB/s    in 0.7s    \n",
      "WIDE_metadata_2021- 100%[===================>] 268.41K  --.-KB/s    in 0.1s    \n"
     ]
    }
   ],
   "source": [
    "# Just run this code block! This code reads in our WIDE dataset and label it as \"wide\". \n",
    "\n",
    "!wget https://us-east-1-unesco-wide.s3.us-east-1.amazonaws.com/WIDE_2021-01-28_v1.csv -q --show-progress\n",
    "!wget https://us-east-1-unesco-wide.s3.us-east-1.amazonaws.com/WIDE_metadata_2021-01-29.csv -q --show-progress"
   ]
  },
  {
   "cell_type": "markdown",
   "metadata": {},
   "source": [
    "We then name the dataset we are going to use as 'wide'"
   ]
  },
  {
   "cell_type": "code",
   "execution_count": 3,
   "metadata": {},
   "outputs": [],
   "source": [
    "wide=pd.read_csv(\"WIDE_2021-01-28_v1.csv\", low_memory=False)"
   ]
  },
  {
   "cell_type": "markdown",
   "metadata": {},
   "source": [
    "**<font color = #254117>Table Manipulations</font>**"
   ]
  },
  {
   "cell_type": "code",
   "execution_count": 4,
   "metadata": {},
   "outputs": [
    {
     "data": {
      "text/html": [
       "<div>\n",
       "<style scoped>\n",
       "    .dataframe tbody tr th:only-of-type {\n",
       "        vertical-align: middle;\n",
       "    }\n",
       "\n",
       "    .dataframe tbody tr th {\n",
       "        vertical-align: top;\n",
       "    }\n",
       "\n",
       "    .dataframe thead th {\n",
       "        text-align: right;\n",
       "    }\n",
       "</style>\n",
       "<table border=\"1\" class=\"dataframe\">\n",
       "  <thead>\n",
       "    <tr style=\"text-align: right;\">\n",
       "      <th></th>\n",
       "      <th>iso_code</th>\n",
       "      <th>region_group</th>\n",
       "      <th>income_group</th>\n",
       "      <th>country</th>\n",
       "      <th>survey</th>\n",
       "      <th>year</th>\n",
       "      <th>level</th>\n",
       "      <th>grade</th>\n",
       "      <th>category</th>\n",
       "      <th>Sex</th>\n",
       "      <th>...</th>\n",
       "      <th>rlevel3_m</th>\n",
       "      <th>rlevel3_no</th>\n",
       "      <th>slevel3_m</th>\n",
       "      <th>slevel3_no</th>\n",
       "      <th>mlevel4_m</th>\n",
       "      <th>mlevel4_no</th>\n",
       "      <th>rlevel4_m</th>\n",
       "      <th>rlevel4_no</th>\n",
       "      <th>slevel4_m</th>\n",
       "      <th>slevel4_no</th>\n",
       "    </tr>\n",
       "  </thead>\n",
       "  <tbody>\n",
       "    <tr>\n",
       "      <th>0</th>\n",
       "      <td>AFG</td>\n",
       "      <td>Central and Southern Asia</td>\n",
       "      <td>Low income countries</td>\n",
       "      <td>Afghanistan</td>\n",
       "      <td>DHS</td>\n",
       "      <td>2015.0</td>\n",
       "      <td>NaN</td>\n",
       "      <td>NaN</td>\n",
       "      <td>Ethnicity</td>\n",
       "      <td>NaN</td>\n",
       "      <td>...</td>\n",
       "      <td>NaN</td>\n",
       "      <td>NaN</td>\n",
       "      <td>NaN</td>\n",
       "      <td>NaN</td>\n",
       "      <td>NaN</td>\n",
       "      <td>NaN</td>\n",
       "      <td>NaN</td>\n",
       "      <td>NaN</td>\n",
       "      <td>NaN</td>\n",
       "      <td>NaN</td>\n",
       "    </tr>\n",
       "    <tr>\n",
       "      <th>1</th>\n",
       "      <td>AFG</td>\n",
       "      <td>Central and Southern Asia</td>\n",
       "      <td>Low income countries</td>\n",
       "      <td>Afghanistan</td>\n",
       "      <td>DHS</td>\n",
       "      <td>2015.0</td>\n",
       "      <td>NaN</td>\n",
       "      <td>NaN</td>\n",
       "      <td>Ethnicity</td>\n",
       "      <td>NaN</td>\n",
       "      <td>...</td>\n",
       "      <td>NaN</td>\n",
       "      <td>NaN</td>\n",
       "      <td>NaN</td>\n",
       "      <td>NaN</td>\n",
       "      <td>NaN</td>\n",
       "      <td>NaN</td>\n",
       "      <td>NaN</td>\n",
       "      <td>NaN</td>\n",
       "      <td>NaN</td>\n",
       "      <td>NaN</td>\n",
       "    </tr>\n",
       "    <tr>\n",
       "      <th>2</th>\n",
       "      <td>AFG</td>\n",
       "      <td>Central and Southern Asia</td>\n",
       "      <td>Low income countries</td>\n",
       "      <td>Afghanistan</td>\n",
       "      <td>DHS</td>\n",
       "      <td>2015.0</td>\n",
       "      <td>NaN</td>\n",
       "      <td>NaN</td>\n",
       "      <td>Ethnicity</td>\n",
       "      <td>NaN</td>\n",
       "      <td>...</td>\n",
       "      <td>NaN</td>\n",
       "      <td>NaN</td>\n",
       "      <td>NaN</td>\n",
       "      <td>NaN</td>\n",
       "      <td>NaN</td>\n",
       "      <td>NaN</td>\n",
       "      <td>NaN</td>\n",
       "      <td>NaN</td>\n",
       "      <td>NaN</td>\n",
       "      <td>NaN</td>\n",
       "    </tr>\n",
       "  </tbody>\n",
       "</table>\n",
       "<p>3 rows × 86 columns</p>\n",
       "</div>"
      ],
      "text/plain": [
       "  iso_code               region_group          income_group      country  \\\n",
       "0      AFG  Central and Southern Asia  Low income countries  Afghanistan   \n",
       "1      AFG  Central and Southern Asia  Low income countries  Afghanistan   \n",
       "2      AFG  Central and Southern Asia  Low income countries  Afghanistan   \n",
       "\n",
       "  survey    year level  grade   category  Sex  ... rlevel3_m rlevel3_no  \\\n",
       "0    DHS  2015.0   NaN    NaN  Ethnicity  NaN  ...       NaN        NaN   \n",
       "1    DHS  2015.0   NaN    NaN  Ethnicity  NaN  ...       NaN        NaN   \n",
       "2    DHS  2015.0   NaN    NaN  Ethnicity  NaN  ...       NaN        NaN   \n",
       "\n",
       "  slevel3_m slevel3_no mlevel4_m mlevel4_no  rlevel4_m  rlevel4_no  slevel4_m  \\\n",
       "0       NaN        NaN       NaN        NaN        NaN         NaN        NaN   \n",
       "1       NaN        NaN       NaN        NaN        NaN         NaN        NaN   \n",
       "2       NaN        NaN       NaN        NaN        NaN         NaN        NaN   \n",
       "\n",
       "   slevel4_no  \n",
       "0         NaN  \n",
       "1         NaN  \n",
       "2         NaN  \n",
       "\n",
       "[3 rows x 86 columns]"
      ]
     },
     "execution_count": 4,
     "metadata": {},
     "output_type": "execute_result"
    }
   ],
   "source": [
    "#lets look at the first 3 rows of our dataset by running this cell\n",
    "wide.head(3)"
   ]
  },
  {
   "cell_type": "markdown",
   "metadata": {},
   "source": [
    "`yourdata.loc[]` is a function that helps us select certain rows, columns, or a combination of rows and columns from a larger dataset. The following are some examples of how it can be used. Make sure to replace `yourdata` in the function with the name of your dataset. "
   ]
  },
  {
   "cell_type": "code",
   "execution_count": 5,
   "metadata": {},
   "outputs": [
    {
     "data": {
      "text/html": [
       "<div>\n",
       "<style scoped>\n",
       "    .dataframe tbody tr th:only-of-type {\n",
       "        vertical-align: middle;\n",
       "    }\n",
       "\n",
       "    .dataframe tbody tr th {\n",
       "        vertical-align: top;\n",
       "    }\n",
       "\n",
       "    .dataframe thead th {\n",
       "        text-align: right;\n",
       "    }\n",
       "</style>\n",
       "<table border=\"1\" class=\"dataframe\">\n",
       "  <thead>\n",
       "    <tr style=\"text-align: right;\">\n",
       "      <th></th>\n",
       "      <th>iso_code</th>\n",
       "      <th>region_group</th>\n",
       "      <th>income_group</th>\n",
       "      <th>country</th>\n",
       "      <th>survey</th>\n",
       "      <th>year</th>\n",
       "      <th>level</th>\n",
       "      <th>grade</th>\n",
       "      <th>category</th>\n",
       "      <th>Sex</th>\n",
       "      <th>...</th>\n",
       "      <th>rlevel3_m</th>\n",
       "      <th>rlevel3_no</th>\n",
       "      <th>slevel3_m</th>\n",
       "      <th>slevel3_no</th>\n",
       "      <th>mlevel4_m</th>\n",
       "      <th>mlevel4_no</th>\n",
       "      <th>rlevel4_m</th>\n",
       "      <th>rlevel4_no</th>\n",
       "      <th>slevel4_m</th>\n",
       "      <th>slevel4_no</th>\n",
       "    </tr>\n",
       "  </thead>\n",
       "  <tbody>\n",
       "    <tr>\n",
       "      <th>0</th>\n",
       "      <td>AFG</td>\n",
       "      <td>Central and Southern Asia</td>\n",
       "      <td>Low income countries</td>\n",
       "      <td>Afghanistan</td>\n",
       "      <td>DHS</td>\n",
       "      <td>2015.0</td>\n",
       "      <td>NaN</td>\n",
       "      <td>NaN</td>\n",
       "      <td>Ethnicity</td>\n",
       "      <td>NaN</td>\n",
       "      <td>...</td>\n",
       "      <td>NaN</td>\n",
       "      <td>NaN</td>\n",
       "      <td>NaN</td>\n",
       "      <td>NaN</td>\n",
       "      <td>NaN</td>\n",
       "      <td>NaN</td>\n",
       "      <td>NaN</td>\n",
       "      <td>NaN</td>\n",
       "      <td>NaN</td>\n",
       "      <td>NaN</td>\n",
       "    </tr>\n",
       "    <tr>\n",
       "      <th>1</th>\n",
       "      <td>AFG</td>\n",
       "      <td>Central and Southern Asia</td>\n",
       "      <td>Low income countries</td>\n",
       "      <td>Afghanistan</td>\n",
       "      <td>DHS</td>\n",
       "      <td>2015.0</td>\n",
       "      <td>NaN</td>\n",
       "      <td>NaN</td>\n",
       "      <td>Ethnicity</td>\n",
       "      <td>NaN</td>\n",
       "      <td>...</td>\n",
       "      <td>NaN</td>\n",
       "      <td>NaN</td>\n",
       "      <td>NaN</td>\n",
       "      <td>NaN</td>\n",
       "      <td>NaN</td>\n",
       "      <td>NaN</td>\n",
       "      <td>NaN</td>\n",
       "      <td>NaN</td>\n",
       "      <td>NaN</td>\n",
       "      <td>NaN</td>\n",
       "    </tr>\n",
       "    <tr>\n",
       "      <th>2</th>\n",
       "      <td>AFG</td>\n",
       "      <td>Central and Southern Asia</td>\n",
       "      <td>Low income countries</td>\n",
       "      <td>Afghanistan</td>\n",
       "      <td>DHS</td>\n",
       "      <td>2015.0</td>\n",
       "      <td>NaN</td>\n",
       "      <td>NaN</td>\n",
       "      <td>Ethnicity</td>\n",
       "      <td>NaN</td>\n",
       "      <td>...</td>\n",
       "      <td>NaN</td>\n",
       "      <td>NaN</td>\n",
       "      <td>NaN</td>\n",
       "      <td>NaN</td>\n",
       "      <td>NaN</td>\n",
       "      <td>NaN</td>\n",
       "      <td>NaN</td>\n",
       "      <td>NaN</td>\n",
       "      <td>NaN</td>\n",
       "      <td>NaN</td>\n",
       "    </tr>\n",
       "  </tbody>\n",
       "</table>\n",
       "<p>3 rows × 86 columns</p>\n",
       "</div>"
      ],
      "text/plain": [
       "  iso_code               region_group          income_group      country  \\\n",
       "0      AFG  Central and Southern Asia  Low income countries  Afghanistan   \n",
       "1      AFG  Central and Southern Asia  Low income countries  Afghanistan   \n",
       "2      AFG  Central and Southern Asia  Low income countries  Afghanistan   \n",
       "\n",
       "  survey    year level  grade   category  Sex  ... rlevel3_m rlevel3_no  \\\n",
       "0    DHS  2015.0   NaN    NaN  Ethnicity  NaN  ...       NaN        NaN   \n",
       "1    DHS  2015.0   NaN    NaN  Ethnicity  NaN  ...       NaN        NaN   \n",
       "2    DHS  2015.0   NaN    NaN  Ethnicity  NaN  ...       NaN        NaN   \n",
       "\n",
       "  slevel3_m slevel3_no mlevel4_m mlevel4_no  rlevel4_m  rlevel4_no  slevel4_m  \\\n",
       "0       NaN        NaN       NaN        NaN        NaN         NaN        NaN   \n",
       "1       NaN        NaN       NaN        NaN        NaN         NaN        NaN   \n",
       "2       NaN        NaN       NaN        NaN        NaN         NaN        NaN   \n",
       "\n",
       "   slevel4_no  \n",
       "0         NaN  \n",
       "1         NaN  \n",
       "2         NaN  \n",
       "\n",
       "[3 rows x 86 columns]"
      ]
     },
     "execution_count": 5,
     "metadata": {},
     "output_type": "execute_result"
    }
   ],
   "source": [
    "# Getting the same disply as wide.head(3) with a different method by running this cell\n",
    "wide.loc[[0,1,2],:] "
   ]
  },
  {
   "cell_type": "code",
   "execution_count": 6,
   "metadata": {},
   "outputs": [
    {
     "data": {
      "text/html": [
       "<div>\n",
       "<style scoped>\n",
       "    .dataframe tbody tr th:only-of-type {\n",
       "        vertical-align: middle;\n",
       "    }\n",
       "\n",
       "    .dataframe tbody tr th {\n",
       "        vertical-align: top;\n",
       "    }\n",
       "\n",
       "    .dataframe thead th {\n",
       "        text-align: right;\n",
       "    }\n",
       "</style>\n",
       "<table border=\"1\" class=\"dataframe\">\n",
       "  <thead>\n",
       "    <tr style=\"text-align: right;\">\n",
       "      <th></th>\n",
       "      <th>iso_code</th>\n",
       "      <th>region_group</th>\n",
       "      <th>income_group</th>\n",
       "      <th>country</th>\n",
       "      <th>survey</th>\n",
       "      <th>year</th>\n",
       "      <th>level</th>\n",
       "      <th>grade</th>\n",
       "      <th>category</th>\n",
       "      <th>Sex</th>\n",
       "      <th>...</th>\n",
       "      <th>rlevel3_m</th>\n",
       "      <th>rlevel3_no</th>\n",
       "      <th>slevel3_m</th>\n",
       "      <th>slevel3_no</th>\n",
       "      <th>mlevel4_m</th>\n",
       "      <th>mlevel4_no</th>\n",
       "      <th>rlevel4_m</th>\n",
       "      <th>rlevel4_no</th>\n",
       "      <th>slevel4_m</th>\n",
       "      <th>slevel4_no</th>\n",
       "    </tr>\n",
       "  </thead>\n",
       "  <tbody>\n",
       "    <tr>\n",
       "      <th>0</th>\n",
       "      <td>AFG</td>\n",
       "      <td>Central and Southern Asia</td>\n",
       "      <td>Low income countries</td>\n",
       "      <td>Afghanistan</td>\n",
       "      <td>DHS</td>\n",
       "      <td>2015.0</td>\n",
       "      <td>NaN</td>\n",
       "      <td>NaN</td>\n",
       "      <td>Ethnicity</td>\n",
       "      <td>NaN</td>\n",
       "      <td>...</td>\n",
       "      <td>NaN</td>\n",
       "      <td>NaN</td>\n",
       "      <td>NaN</td>\n",
       "      <td>NaN</td>\n",
       "      <td>NaN</td>\n",
       "      <td>NaN</td>\n",
       "      <td>NaN</td>\n",
       "      <td>NaN</td>\n",
       "      <td>NaN</td>\n",
       "      <td>NaN</td>\n",
       "    </tr>\n",
       "    <tr>\n",
       "      <th>1</th>\n",
       "      <td>AFG</td>\n",
       "      <td>Central and Southern Asia</td>\n",
       "      <td>Low income countries</td>\n",
       "      <td>Afghanistan</td>\n",
       "      <td>DHS</td>\n",
       "      <td>2015.0</td>\n",
       "      <td>NaN</td>\n",
       "      <td>NaN</td>\n",
       "      <td>Ethnicity</td>\n",
       "      <td>NaN</td>\n",
       "      <td>...</td>\n",
       "      <td>NaN</td>\n",
       "      <td>NaN</td>\n",
       "      <td>NaN</td>\n",
       "      <td>NaN</td>\n",
       "      <td>NaN</td>\n",
       "      <td>NaN</td>\n",
       "      <td>NaN</td>\n",
       "      <td>NaN</td>\n",
       "      <td>NaN</td>\n",
       "      <td>NaN</td>\n",
       "    </tr>\n",
       "    <tr>\n",
       "      <th>2</th>\n",
       "      <td>AFG</td>\n",
       "      <td>Central and Southern Asia</td>\n",
       "      <td>Low income countries</td>\n",
       "      <td>Afghanistan</td>\n",
       "      <td>DHS</td>\n",
       "      <td>2015.0</td>\n",
       "      <td>NaN</td>\n",
       "      <td>NaN</td>\n",
       "      <td>Ethnicity</td>\n",
       "      <td>NaN</td>\n",
       "      <td>...</td>\n",
       "      <td>NaN</td>\n",
       "      <td>NaN</td>\n",
       "      <td>NaN</td>\n",
       "      <td>NaN</td>\n",
       "      <td>NaN</td>\n",
       "      <td>NaN</td>\n",
       "      <td>NaN</td>\n",
       "      <td>NaN</td>\n",
       "      <td>NaN</td>\n",
       "      <td>NaN</td>\n",
       "    </tr>\n",
       "  </tbody>\n",
       "</table>\n",
       "<p>3 rows × 86 columns</p>\n",
       "</div>"
      ],
      "text/plain": [
       "  iso_code               region_group          income_group      country  \\\n",
       "0      AFG  Central and Southern Asia  Low income countries  Afghanistan   \n",
       "1      AFG  Central and Southern Asia  Low income countries  Afghanistan   \n",
       "2      AFG  Central and Southern Asia  Low income countries  Afghanistan   \n",
       "\n",
       "  survey    year level  grade   category  Sex  ... rlevel3_m rlevel3_no  \\\n",
       "0    DHS  2015.0   NaN    NaN  Ethnicity  NaN  ...       NaN        NaN   \n",
       "1    DHS  2015.0   NaN    NaN  Ethnicity  NaN  ...       NaN        NaN   \n",
       "2    DHS  2015.0   NaN    NaN  Ethnicity  NaN  ...       NaN        NaN   \n",
       "\n",
       "  slevel3_m slevel3_no mlevel4_m mlevel4_no  rlevel4_m  rlevel4_no  slevel4_m  \\\n",
       "0       NaN        NaN       NaN        NaN        NaN         NaN        NaN   \n",
       "1       NaN        NaN       NaN        NaN        NaN         NaN        NaN   \n",
       "2       NaN        NaN       NaN        NaN        NaN         NaN        NaN   \n",
       "\n",
       "   slevel4_no  \n",
       "0         NaN  \n",
       "1         NaN  \n",
       "2         NaN  \n",
       "\n",
       "[3 rows x 86 columns]"
      ]
     },
     "execution_count": 6,
     "metadata": {},
     "output_type": "execute_result"
    }
   ],
   "source": [
    "# Since we want a range of rows, we could also use the following:\n",
    "wide.loc[0:2,:] "
   ]
  },
  {
   "cell_type": "code",
   "execution_count": 7,
   "metadata": {},
   "outputs": [
    {
     "data": {
      "text/plain": [
       "0         Afghanistan\n",
       "1         Afghanistan\n",
       "2         Afghanistan\n",
       "3         Afghanistan\n",
       "4         Afghanistan\n",
       "             ...     \n",
       "212964            NaN\n",
       "212965            NaN\n",
       "212966            NaN\n",
       "212967            NaN\n",
       "212968            NaN\n",
       "Name: country, Length: 212969, dtype: object"
      ]
     },
     "execution_count": 7,
     "metadata": {},
     "output_type": "execute_result"
    }
   ],
   "source": [
    "#Now lets try to select columns by column name by running this cell\n",
    "wide.loc[:, \"country\"]"
   ]
  },
  {
   "cell_type": "code",
   "execution_count": 8,
   "metadata": {},
   "outputs": [
    {
     "data": {
      "text/plain": [
       "array(['Afghanistan', 'Angola', 'Albania', 'U. A. Emirates', 'Argentina',\n",
       "       'Armenia', 'Australia', 'Austria', 'Azerbaijan', 'Burundi',\n",
       "       'Belgium', 'Benin', 'Burkina Faso', 'Bangladesh', 'Bulgaria',\n",
       "       'Bahrain', 'Bosnia/Herzeg.', 'Belarus', 'Belize', 'Bolivia',\n",
       "       'Brazil', 'Barbados', 'Bhutan', 'Botswana', 'C. A. R.', 'Canada',\n",
       "       'Switzerland', 'Chile', 'China', \"Côte d'Ivoire\", 'Cameroon',\n",
       "       'D. R. Congo', 'Congo', 'Colombia', 'Comoros', 'Costa Rica',\n",
       "       'Cuba', 'Cyprus', 'Czechia', 'Germany', 'Djibouti', 'Denmark',\n",
       "       'Dominican Rep.', 'Algeria', 'Ecuador', 'Egypt', 'Spain',\n",
       "       'Estonia', 'Ethiopia', 'Finland', 'France', 'Gabon', 'Georgia',\n",
       "       'Ghana', 'Guinea', 'Gambia', 'Guinea-Bissau', 'Equat. Guinea',\n",
       "       'Greece', 'Guatemala', 'Guyana', 'Hong Kong, China', 'Honduras',\n",
       "       'Croatia', 'Haiti', 'Hungary', 'Indonesia', 'India', 'Ireland',\n",
       "       'Iran, Isl. Rep.', 'Iraq', 'Iceland', 'Israel', 'Italy', 'Jamaica',\n",
       "       'Jordan', 'Japan', 'Kazakhstan', 'Kenya', 'Kyrgyzstan', 'Cambodia',\n",
       "       'Rep. of Korea', 'Kuwait', 'Lao PDR', 'Lebanon', 'Liberia',\n",
       "       'Saint Lucia', 'Liechtenstein', 'Sri Lanka', 'Lesotho',\n",
       "       'Lithuania', 'Luxembourg', 'Latvia', 'Macao, China', 'Morocco',\n",
       "       'Rep. Moldova', 'Madagascar', 'Maldives', 'Mexico',\n",
       "       'North Macedonia', 'Mali', 'Malta', 'Myanmar', 'Montenegro',\n",
       "       'Mongolia', 'Mozambique', 'Mauritania', 'Mauritius', 'Malawi',\n",
       "       'Malaysia', 'Namibia', 'Niger', 'Nigeria', 'Nicaragua',\n",
       "       'Netherlands', 'Norway', 'Nepal', 'New Zealand', 'Oman',\n",
       "       'Pakistan', 'Panama', 'Peru', 'Philippines', 'Poland', 'Portugal',\n",
       "       'Paraguay', 'Palestine', 'Qatar', 'Romania', 'Russian Fed.',\n",
       "       'Rwanda', 'Saudi Arabia', 'Sudan', 'Senegal', 'Singapore',\n",
       "       'Sierra Leone', 'El Salvador', 'Somalia', 'Serbia', 'South Sudan',\n",
       "       'S. Tome/Principe', 'Suriname', 'Slovakia', 'Slovenia', 'Sweden',\n",
       "       'Eswatini', 'Syrian A. R.', 'Chad', 'Togo', 'Thailand',\n",
       "       'Tajikistan', 'Turkmenistan', 'Timor-Leste', 'Trinidad/Tobago',\n",
       "       'Tunisia', 'Turkey', 'U. R. Tanzania', 'Uganda', 'Ukraine',\n",
       "       'Uruguay', 'United States', 'Uzbekistan', 'Venezuela, B. R.',\n",
       "       'Viet Nam', 'Vanuatu', 'Yemen', 'South Africa', 'Zambia',\n",
       "       'Zimbabwe', 'Fiji', 'Kiribati', 'Papua N. Guinea', 'Seychelles',\n",
       "       'Tonga', 'Brunei Daruss.', 'United Kingdom', nan], dtype=object)"
      ]
     },
     "execution_count": 8,
     "metadata": {},
     "output_type": "execute_result"
    }
   ],
   "source": [
    "## We can print the list of countries included in this dataset by asking for unique values or the country column\n",
    "## Run this cell\n",
    "countrynames = wide[\"country\"].unique()\n",
    "countrynames"
   ]
  },
  {
   "cell_type": "markdown",
   "metadata": {},
   "source": [
    "Next we print all column names: you should refer to the [data note](https://us-east-1-unesco-wide.s3.amazonaws.com/About%20WIDE.pdf) from the WIDE website to see what each column denotes\n"
   ]
  },
  {
   "cell_type": "code",
   "execution_count": 9,
   "metadata": {},
   "outputs": [
    {
     "data": {
      "text/plain": [
       "Index(['iso_code', 'region_group', 'income_group', 'country', 'survey', 'year',\n",
       "       'level', 'grade', 'category', 'Sex', 'Location', 'Wealth', 'Region',\n",
       "       'Ethnicity', 'Religion', 'Language', 'comp_prim_v2_m',\n",
       "       'comp_lowsec_v2_m', 'comp_upsec_v2_m', 'comp_prim_1524_m',\n",
       "       'comp_lowsec_1524_m', 'comp_upsec_2029_m', 'eduyears_2024_m',\n",
       "       'edu2_2024_m', 'edu4_2024_m', 'eduout_prim_m', 'eduout_lowsec_m',\n",
       "       'eduout_upsec_m', 'comp_prim_v2_no', 'comp_lowsec_v2_no',\n",
       "       'comp_upsec_v2_no', 'comp_prim_1524_no', 'comp_lowsec_1524_no',\n",
       "       'comp_upsec_2029_no', 'eduyears_2024_no', 'edu2_2024_no',\n",
       "       'edu4_2024_no', 'eduout_prim_no', 'eduout_lowsec_no', 'eduout_upsec_no',\n",
       "       'preschool_3_m', 'preschool_3_no', 'preschool_1ybefore_m',\n",
       "       'preschool_1ybefore_no', 'edu0_prim_m', 'edu0_prim_no', 'trans_prim_m',\n",
       "       'trans_prim_no', 'trans_lowsec_m', 'trans_lowsec_no',\n",
       "       'comp_higher_2yrs_2529_m', 'comp_higher_2yrs_2529_no',\n",
       "       'comp_higher_4yrs_2529_m', 'comp_higher_4yrs_2529_no',\n",
       "       'comp_higher_4yrs_3034_m', 'comp_higher_4yrs_3034_no',\n",
       "       'attend_higher_1822_m', 'attend_higher_1822_no', 'overage2plus_m',\n",
       "       'overage2plus_no', 'literacy_1524_m', 'literacy_1524_no', 'mlevel1_m',\n",
       "       'mlevel1_no', 'rlevel1_m', 'rlevel1_no', 'slevel1_m', 'slevel1_no',\n",
       "       'mlevel2_m', 'mlevel2_no', 'rlevel2_m', 'rlevel2_no', 'slevel2_m',\n",
       "       'slevel2_no', 'mlevel3_m', 'mlevel3_no', 'rlevel3_m', 'rlevel3_no',\n",
       "       'slevel3_m', 'slevel3_no', 'mlevel4_m', 'mlevel4_no', 'rlevel4_m',\n",
       "       'rlevel4_no', 'slevel4_m', 'slevel4_no'],\n",
       "      dtype='object')"
      ]
     },
     "execution_count": 9,
     "metadata": {},
     "output_type": "execute_result"
    }
   ],
   "source": [
    "## Run this cell\n",
    "wide.columns"
   ]
  },
  {
   "cell_type": "markdown",
   "metadata": {},
   "source": [
    "Now let’s select our country of interest, and only display variables we might be interested in by running this cell. \n",
    "\n",
    "In this tutorial we will use the example of Uganda and conduct a gender analysis for this region only. \n",
    "\n",
    "As mentioned above, the first step in conducting a gender analysis is to identify important outcome indicators. The three important outcomes of interventions or programs aimed at promoting gender equality that are currently prioritized by many countries are:\n",
    "1.\tReducing the number of lower secondary schools-aged girls out of school\n",
    "2.\tIncreasing the number of marginalized girls completing lower secondary education\n",
    "3.\tEnsuring adolescent girls gain the skills and knowledge needed for personal empowerment, future learning, active citizenship, and employment. \n",
    "\n",
    "These three outcomes correspond with improving participation, completion, and learning outcomes respectively. These criteria will vary depending on the circumstances of each country but for your assignment we ask you to use the following criteria and will walk you through how to do so:\n",
    "\n",
    "1. Out of school children rate\n",
    "2. Completion rate\n",
    "3. Transition rate from primary to secondary school\n",
    "4. Over age primary school attandance rate"
   ]
  },
  {
   "cell_type": "code",
   "execution_count": 10,
   "metadata": {},
   "outputs": [
    {
     "data": {
      "text/html": [
       "<div>\n",
       "<style scoped>\n",
       "    .dataframe tbody tr th:only-of-type {\n",
       "        vertical-align: middle;\n",
       "    }\n",
       "\n",
       "    .dataframe tbody tr th {\n",
       "        vertical-align: top;\n",
       "    }\n",
       "\n",
       "    .dataframe thead th {\n",
       "        text-align: right;\n",
       "    }\n",
       "</style>\n",
       "<table border=\"1\" class=\"dataframe\">\n",
       "  <thead>\n",
       "    <tr style=\"text-align: right;\">\n",
       "      <th></th>\n",
       "      <th>year</th>\n",
       "      <th>Sex</th>\n",
       "      <th>Wealth</th>\n",
       "      <th>Location</th>\n",
       "      <th>eduout_prim_m</th>\n",
       "      <th>eduout_lowsec_m</th>\n",
       "      <th>eduout_upsec_m</th>\n",
       "      <th>comp_prim_v2_m</th>\n",
       "      <th>comp_lowsec_v2_m</th>\n",
       "      <th>comp_upsec_v2_m</th>\n",
       "    </tr>\n",
       "  </thead>\n",
       "  <tbody>\n",
       "    <tr>\n",
       "      <th>120978</th>\n",
       "      <td>2001.0</td>\n",
       "      <td>NaN</td>\n",
       "      <td>NaN</td>\n",
       "      <td>Rural</td>\n",
       "      <td>0.1257</td>\n",
       "      <td>0.1980</td>\n",
       "      <td>0.6219</td>\n",
       "      <td>0.3292</td>\n",
       "      <td>0.0837</td>\n",
       "      <td>0.0689</td>\n",
       "    </tr>\n",
       "    <tr>\n",
       "      <th>120979</th>\n",
       "      <td>2001.0</td>\n",
       "      <td>NaN</td>\n",
       "      <td>NaN</td>\n",
       "      <td>Urban</td>\n",
       "      <td>0.0996</td>\n",
       "      <td>0.2283</td>\n",
       "      <td>0.5218</td>\n",
       "      <td>0.6930</td>\n",
       "      <td>0.3558</td>\n",
       "      <td>0.2826</td>\n",
       "    </tr>\n",
       "    <tr>\n",
       "      <th>120980</th>\n",
       "      <td>2001.0</td>\n",
       "      <td>NaN</td>\n",
       "      <td>NaN</td>\n",
       "      <td>Rural</td>\n",
       "      <td>0.1678</td>\n",
       "      <td>0.2804</td>\n",
       "      <td>0.6582</td>\n",
       "      <td>0.2724</td>\n",
       "      <td>0.0286</td>\n",
       "      <td>0.0253</td>\n",
       "    </tr>\n",
       "    <tr>\n",
       "      <th>120981</th>\n",
       "      <td>2001.0</td>\n",
       "      <td>NaN</td>\n",
       "      <td>NaN</td>\n",
       "      <td>Rural</td>\n",
       "      <td>0.0952</td>\n",
       "      <td>0.1725</td>\n",
       "      <td>0.8170</td>\n",
       "      <td>0.3472</td>\n",
       "      <td>0.0423</td>\n",
       "      <td>0.0753</td>\n",
       "    </tr>\n",
       "    <tr>\n",
       "      <th>120982</th>\n",
       "      <td>2001.0</td>\n",
       "      <td>NaN</td>\n",
       "      <td>NaN</td>\n",
       "      <td>Rural</td>\n",
       "      <td>0.1276</td>\n",
       "      <td>0.2016</td>\n",
       "      <td>0.5468</td>\n",
       "      <td>0.3585</td>\n",
       "      <td>0.1052</td>\n",
       "      <td>0.1246</td>\n",
       "    </tr>\n",
       "    <tr>\n",
       "      <th>...</th>\n",
       "      <td>...</td>\n",
       "      <td>...</td>\n",
       "      <td>...</td>\n",
       "      <td>...</td>\n",
       "      <td>...</td>\n",
       "      <td>...</td>\n",
       "      <td>...</td>\n",
       "      <td>...</td>\n",
       "      <td>...</td>\n",
       "      <td>...</td>\n",
       "    </tr>\n",
       "    <tr>\n",
       "      <th>173562</th>\n",
       "      <td>2000.0</td>\n",
       "      <td>Male</td>\n",
       "      <td>Quintile 2</td>\n",
       "      <td>NaN</td>\n",
       "      <td>NaN</td>\n",
       "      <td>NaN</td>\n",
       "      <td>NaN</td>\n",
       "      <td>NaN</td>\n",
       "      <td>NaN</td>\n",
       "      <td>NaN</td>\n",
       "    </tr>\n",
       "    <tr>\n",
       "      <th>173577</th>\n",
       "      <td>2000.0</td>\n",
       "      <td>NaN</td>\n",
       "      <td>Quintile 2</td>\n",
       "      <td>NaN</td>\n",
       "      <td>NaN</td>\n",
       "      <td>NaN</td>\n",
       "      <td>NaN</td>\n",
       "      <td>NaN</td>\n",
       "      <td>NaN</td>\n",
       "      <td>NaN</td>\n",
       "    </tr>\n",
       "    <tr>\n",
       "      <th>173579</th>\n",
       "      <td>2007.0</td>\n",
       "      <td>NaN</td>\n",
       "      <td>NaN</td>\n",
       "      <td>Urban</td>\n",
       "      <td>NaN</td>\n",
       "      <td>NaN</td>\n",
       "      <td>NaN</td>\n",
       "      <td>NaN</td>\n",
       "      <td>NaN</td>\n",
       "      <td>NaN</td>\n",
       "    </tr>\n",
       "    <tr>\n",
       "      <th>173581</th>\n",
       "      <td>2007.0</td>\n",
       "      <td>Male</td>\n",
       "      <td>Quintile 3</td>\n",
       "      <td>Urban</td>\n",
       "      <td>NaN</td>\n",
       "      <td>NaN</td>\n",
       "      <td>NaN</td>\n",
       "      <td>NaN</td>\n",
       "      <td>NaN</td>\n",
       "      <td>NaN</td>\n",
       "    </tr>\n",
       "    <tr>\n",
       "      <th>173599</th>\n",
       "      <td>2000.0</td>\n",
       "      <td>Male</td>\n",
       "      <td>Quintile 3</td>\n",
       "      <td>NaN</td>\n",
       "      <td>NaN</td>\n",
       "      <td>NaN</td>\n",
       "      <td>NaN</td>\n",
       "      <td>NaN</td>\n",
       "      <td>NaN</td>\n",
       "      <td>NaN</td>\n",
       "    </tr>\n",
       "  </tbody>\n",
       "</table>\n",
       "<p>781 rows × 10 columns</p>\n",
       "</div>"
      ],
      "text/plain": [
       "          year   Sex      Wealth Location  eduout_prim_m  eduout_lowsec_m  \\\n",
       "120978  2001.0   NaN         NaN    Rural         0.1257           0.1980   \n",
       "120979  2001.0   NaN         NaN    Urban         0.0996           0.2283   \n",
       "120980  2001.0   NaN         NaN    Rural         0.1678           0.2804   \n",
       "120981  2001.0   NaN         NaN    Rural         0.0952           0.1725   \n",
       "120982  2001.0   NaN         NaN    Rural         0.1276           0.2016   \n",
       "...        ...   ...         ...      ...            ...              ...   \n",
       "173562  2000.0  Male  Quintile 2      NaN            NaN              NaN   \n",
       "173577  2000.0   NaN  Quintile 2      NaN            NaN              NaN   \n",
       "173579  2007.0   NaN         NaN    Urban            NaN              NaN   \n",
       "173581  2007.0  Male  Quintile 3    Urban            NaN              NaN   \n",
       "173599  2000.0  Male  Quintile 3      NaN            NaN              NaN   \n",
       "\n",
       "        eduout_upsec_m  comp_prim_v2_m  comp_lowsec_v2_m  comp_upsec_v2_m  \n",
       "120978          0.6219          0.3292            0.0837           0.0689  \n",
       "120979          0.5218          0.6930            0.3558           0.2826  \n",
       "120980          0.6582          0.2724            0.0286           0.0253  \n",
       "120981          0.8170          0.3472            0.0423           0.0753  \n",
       "120982          0.5468          0.3585            0.1052           0.1246  \n",
       "...                ...             ...               ...              ...  \n",
       "173562             NaN             NaN               NaN              NaN  \n",
       "173577             NaN             NaN               NaN              NaN  \n",
       "173579             NaN             NaN               NaN              NaN  \n",
       "173581             NaN             NaN               NaN              NaN  \n",
       "173599             NaN             NaN               NaN              NaN  \n",
       "\n",
       "[781 rows x 10 columns]"
      ]
     },
     "execution_count": 10,
     "metadata": {},
     "output_type": "execute_result"
    }
   ],
   "source": [
    "# Now lets select our country of interest, and only display variables we might be interested in by running this cell\n",
    "\n",
    "# Here the markers of marginalization (or outcome variable) we will include are out of school children rate \n",
    "# at primary, lower secondary and upper secondary level\n",
    "# The characteristics (or independent variable) we included are year, sex, wealth and location.\n",
    "\n",
    "# This allows us to control for or ensure that we account for differences across these social categories which might\n",
    "# influence our outcome and as we will explain later in this tutorial including these categories allows us to \n",
    "# disaggregate our data and better understand the context.\n",
    "uganda = wide.loc[wide.country =='Uganda',['year','Sex','Wealth','Location','eduout_prim_m','eduout_lowsec_m',\n",
    "       'eduout_upsec_m', 'comp_prim_v2_m', 'comp_lowsec_v2_m', 'comp_upsec_v2_m']]\n",
    "uganda"
   ]
  },
  {
   "cell_type": "markdown",
   "metadata": {},
   "source": [
    "You might have noticed the \"NaN\" entries in the table. NaN stands for \"Not a Number,\" however, conceptually, NaN means missing value. Now that we have selected our outcome indicator and dependent variables, and narrowed down on the country, we need to handle the missing data before we do any other analysis or visualization. \n",
    "\n",
    "Generally speaking, there are several different ways to handle missing data, but for your assignment we are aking you to handle missing data by deleting it, and will go over how to do so. "
   ]
  },
  {
   "cell_type": "code",
   "execution_count": 11,
   "metadata": {},
   "outputs": [
    {
     "data": {
      "text/plain": [
       "year                  0\n",
       "Sex                 319\n",
       "Wealth              291\n",
       "Location            529\n",
       "eduout_prim_m       183\n",
       "eduout_lowsec_m     278\n",
       "eduout_upsec_m      440\n",
       "comp_prim_v2_m      339\n",
       "comp_lowsec_v2_m    397\n",
       "comp_upsec_v2_m     427\n",
       "dtype: int64"
      ]
     },
     "execution_count": 11,
     "metadata": {},
     "output_type": "execute_result"
    }
   ],
   "source": [
    "#get number of missing values in each column by running this cell\n",
    "uganda.isnull().sum()"
   ]
  },
  {
   "cell_type": "markdown",
   "metadata": {},
   "source": [
    "We can see that many of the columns we selected contains missing values. We have to delete these before we move on to graphs. "
   ]
  },
  {
   "cell_type": "code",
   "execution_count": 12,
   "metadata": {},
   "outputs": [
    {
     "data": {
      "text/plain": [
       "(781, 10)"
      ]
     },
     "execution_count": 12,
     "metadata": {},
     "output_type": "execute_result"
    }
   ],
   "source": [
    "#First lets check the shape of our dataset\n",
    "uganda.shape "
   ]
  },
  {
   "cell_type": "markdown",
   "metadata": {},
   "source": [
    "This means we currently have 1474 rows and 8 columns in the dataset for Uganda. "
   ]
  },
  {
   "cell_type": "code",
   "execution_count": 13,
   "metadata": {},
   "outputs": [
    {
     "data": {
      "text/plain": [
       "(41, 10)"
      ]
     },
     "execution_count": 13,
     "metadata": {},
     "output_type": "execute_result"
    }
   ],
   "source": [
    "#drop all rows that contains a missing value by running this cell\n",
    "uganda.dropna(how ='any').shape"
   ]
  },
  {
   "cell_type": "markdown",
   "metadata": {},
   "source": [
    "We can see that after deleting the missing values, we have only 41 rows left, comfirming that we deleted many missing values."
   ]
  },
  {
   "cell_type": "code",
   "execution_count": 14,
   "metadata": {},
   "outputs": [
    {
     "data": {
      "text/html": [
       "<div>\n",
       "<style scoped>\n",
       "    .dataframe tbody tr th:only-of-type {\n",
       "        vertical-align: middle;\n",
       "    }\n",
       "\n",
       "    .dataframe tbody tr th {\n",
       "        vertical-align: top;\n",
       "    }\n",
       "\n",
       "    .dataframe thead th {\n",
       "        text-align: right;\n",
       "    }\n",
       "</style>\n",
       "<table border=\"1\" class=\"dataframe\">\n",
       "  <thead>\n",
       "    <tr style=\"text-align: right;\">\n",
       "      <th></th>\n",
       "      <th>year</th>\n",
       "      <th>Sex</th>\n",
       "      <th>Wealth</th>\n",
       "      <th>Location</th>\n",
       "      <th>eduout_prim_m</th>\n",
       "      <th>eduout_lowsec_m</th>\n",
       "      <th>eduout_upsec_m</th>\n",
       "      <th>comp_prim_v2_m</th>\n",
       "      <th>comp_lowsec_v2_m</th>\n",
       "      <th>comp_upsec_v2_m</th>\n",
       "    </tr>\n",
       "  </thead>\n",
       "  <tbody>\n",
       "    <tr>\n",
       "      <th>121029</th>\n",
       "      <td>2006.0</td>\n",
       "      <td>Female</td>\n",
       "      <td>Quintile 1</td>\n",
       "      <td>Rural</td>\n",
       "      <td>0.2862</td>\n",
       "      <td>0.2925</td>\n",
       "      <td>0.7342</td>\n",
       "      <td>0.0826</td>\n",
       "      <td>0.0029</td>\n",
       "      <td>0.0094</td>\n",
       "    </tr>\n",
       "    <tr>\n",
       "      <th>121030</th>\n",
       "      <td>2006.0</td>\n",
       "      <td>Female</td>\n",
       "      <td>Quintile 2</td>\n",
       "      <td>Rural</td>\n",
       "      <td>0.2143</td>\n",
       "      <td>0.1740</td>\n",
       "      <td>0.6584</td>\n",
       "      <td>0.1255</td>\n",
       "      <td>0.0519</td>\n",
       "      <td>0.0240</td>\n",
       "    </tr>\n",
       "    <tr>\n",
       "      <th>121031</th>\n",
       "      <td>2006.0</td>\n",
       "      <td>Female</td>\n",
       "      <td>Quintile 3</td>\n",
       "      <td>Rural</td>\n",
       "      <td>0.1816</td>\n",
       "      <td>0.1570</td>\n",
       "      <td>0.5785</td>\n",
       "      <td>0.2063</td>\n",
       "      <td>0.0406</td>\n",
       "      <td>0.0439</td>\n",
       "    </tr>\n",
       "    <tr>\n",
       "      <th>121032</th>\n",
       "      <td>2006.0</td>\n",
       "      <td>Female</td>\n",
       "      <td>Quintile 4</td>\n",
       "      <td>Rural</td>\n",
       "      <td>0.1305</td>\n",
       "      <td>0.0696</td>\n",
       "      <td>0.5618</td>\n",
       "      <td>0.3007</td>\n",
       "      <td>0.0970</td>\n",
       "      <td>0.0361</td>\n",
       "    </tr>\n",
       "    <tr>\n",
       "      <th>121033</th>\n",
       "      <td>2006.0</td>\n",
       "      <td>Female</td>\n",
       "      <td>Quintile 5</td>\n",
       "      <td>Rural</td>\n",
       "      <td>0.1080</td>\n",
       "      <td>0.1227</td>\n",
       "      <td>0.3847</td>\n",
       "      <td>0.5783</td>\n",
       "      <td>0.3007</td>\n",
       "      <td>0.1173</td>\n",
       "    </tr>\n",
       "    <tr>\n",
       "      <th>121035</th>\n",
       "      <td>2006.0</td>\n",
       "      <td>Female</td>\n",
       "      <td>Quintile 5</td>\n",
       "      <td>Urban</td>\n",
       "      <td>0.0861</td>\n",
       "      <td>0.1911</td>\n",
       "      <td>0.4619</td>\n",
       "      <td>0.6914</td>\n",
       "      <td>0.4560</td>\n",
       "      <td>0.3170</td>\n",
       "    </tr>\n",
       "    <tr>\n",
       "      <th>121036</th>\n",
       "      <td>2006.0</td>\n",
       "      <td>Male</td>\n",
       "      <td>Quintile 1</td>\n",
       "      <td>Rural</td>\n",
       "      <td>0.2638</td>\n",
       "      <td>0.1864</td>\n",
       "      <td>0.4920</td>\n",
       "      <td>0.1004</td>\n",
       "      <td>0.0350</td>\n",
       "      <td>0.0186</td>\n",
       "    </tr>\n",
       "    <tr>\n",
       "      <th>121037</th>\n",
       "      <td>2006.0</td>\n",
       "      <td>Male</td>\n",
       "      <td>Quintile 2</td>\n",
       "      <td>Rural</td>\n",
       "      <td>0.1750</td>\n",
       "      <td>0.1613</td>\n",
       "      <td>0.4254</td>\n",
       "      <td>0.1138</td>\n",
       "      <td>0.0499</td>\n",
       "      <td>0.0705</td>\n",
       "    </tr>\n",
       "    <tr>\n",
       "      <th>121038</th>\n",
       "      <td>2006.0</td>\n",
       "      <td>Male</td>\n",
       "      <td>Quintile 3</td>\n",
       "      <td>Rural</td>\n",
       "      <td>0.1742</td>\n",
       "      <td>0.1525</td>\n",
       "      <td>0.4958</td>\n",
       "      <td>0.1816</td>\n",
       "      <td>0.0708</td>\n",
       "      <td>0.0410</td>\n",
       "    </tr>\n",
       "    <tr>\n",
       "      <th>121039</th>\n",
       "      <td>2006.0</td>\n",
       "      <td>Male</td>\n",
       "      <td>Quintile 4</td>\n",
       "      <td>Rural</td>\n",
       "      <td>0.1425</td>\n",
       "      <td>0.1470</td>\n",
       "      <td>0.4254</td>\n",
       "      <td>0.3045</td>\n",
       "      <td>0.1563</td>\n",
       "      <td>0.1248</td>\n",
       "    </tr>\n",
       "    <tr>\n",
       "      <th>121040</th>\n",
       "      <td>2006.0</td>\n",
       "      <td>Male</td>\n",
       "      <td>Quintile 5</td>\n",
       "      <td>Rural</td>\n",
       "      <td>0.1236</td>\n",
       "      <td>0.0887</td>\n",
       "      <td>0.3317</td>\n",
       "      <td>0.5263</td>\n",
       "      <td>0.2854</td>\n",
       "      <td>0.2025</td>\n",
       "    </tr>\n",
       "    <tr>\n",
       "      <th>121044</th>\n",
       "      <td>2006.0</td>\n",
       "      <td>Male</td>\n",
       "      <td>Quintile 5</td>\n",
       "      <td>Urban</td>\n",
       "      <td>0.0692</td>\n",
       "      <td>0.0789</td>\n",
       "      <td>0.3931</td>\n",
       "      <td>0.7039</td>\n",
       "      <td>0.3929</td>\n",
       "      <td>0.3164</td>\n",
       "    </tr>\n",
       "    <tr>\n",
       "      <th>121287</th>\n",
       "      <td>2011.0</td>\n",
       "      <td>Female</td>\n",
       "      <td>Quintile 1</td>\n",
       "      <td>Rural</td>\n",
       "      <td>0.2142</td>\n",
       "      <td>0.3171</td>\n",
       "      <td>0.8401</td>\n",
       "      <td>0.1313</td>\n",
       "      <td>0.0280</td>\n",
       "      <td>0.0098</td>\n",
       "    </tr>\n",
       "    <tr>\n",
       "      <th>121288</th>\n",
       "      <td>2011.0</td>\n",
       "      <td>Female</td>\n",
       "      <td>Quintile 2</td>\n",
       "      <td>Rural</td>\n",
       "      <td>0.1128</td>\n",
       "      <td>0.1372</td>\n",
       "      <td>0.7751</td>\n",
       "      <td>0.3024</td>\n",
       "      <td>0.0774</td>\n",
       "      <td>0.0309</td>\n",
       "    </tr>\n",
       "    <tr>\n",
       "      <th>121289</th>\n",
       "      <td>2011.0</td>\n",
       "      <td>Female</td>\n",
       "      <td>Quintile 3</td>\n",
       "      <td>Rural</td>\n",
       "      <td>0.0853</td>\n",
       "      <td>0.1849</td>\n",
       "      <td>0.6904</td>\n",
       "      <td>0.3036</td>\n",
       "      <td>0.0959</td>\n",
       "      <td>0.0240</td>\n",
       "    </tr>\n",
       "    <tr>\n",
       "      <th>121290</th>\n",
       "      <td>2011.0</td>\n",
       "      <td>Female</td>\n",
       "      <td>Quintile 4</td>\n",
       "      <td>Rural</td>\n",
       "      <td>0.0706</td>\n",
       "      <td>0.1233</td>\n",
       "      <td>0.6010</td>\n",
       "      <td>0.5467</td>\n",
       "      <td>0.2172</td>\n",
       "      <td>0.0717</td>\n",
       "    </tr>\n",
       "    <tr>\n",
       "      <th>121291</th>\n",
       "      <td>2011.0</td>\n",
       "      <td>Female</td>\n",
       "      <td>Quintile 5</td>\n",
       "      <td>Rural</td>\n",
       "      <td>0.0497</td>\n",
       "      <td>0.1247</td>\n",
       "      <td>0.5050</td>\n",
       "      <td>0.5874</td>\n",
       "      <td>0.3916</td>\n",
       "      <td>0.2790</td>\n",
       "    </tr>\n",
       "    <tr>\n",
       "      <th>121295</th>\n",
       "      <td>2011.0</td>\n",
       "      <td>Female</td>\n",
       "      <td>Quintile 4</td>\n",
       "      <td>Urban</td>\n",
       "      <td>0.0443</td>\n",
       "      <td>0.0898</td>\n",
       "      <td>0.7460</td>\n",
       "      <td>0.6785</td>\n",
       "      <td>0.4859</td>\n",
       "      <td>0.0749</td>\n",
       "    </tr>\n",
       "    <tr>\n",
       "      <th>121296</th>\n",
       "      <td>2011.0</td>\n",
       "      <td>Female</td>\n",
       "      <td>Quintile 5</td>\n",
       "      <td>Urban</td>\n",
       "      <td>0.0826</td>\n",
       "      <td>0.3420</td>\n",
       "      <td>0.6810</td>\n",
       "      <td>0.7331</td>\n",
       "      <td>0.5249</td>\n",
       "      <td>0.3581</td>\n",
       "    </tr>\n",
       "    <tr>\n",
       "      <th>121297</th>\n",
       "      <td>2011.0</td>\n",
       "      <td>Male</td>\n",
       "      <td>Quintile 1</td>\n",
       "      <td>Rural</td>\n",
       "      <td>0.1673</td>\n",
       "      <td>0.1963</td>\n",
       "      <td>0.5494</td>\n",
       "      <td>0.1351</td>\n",
       "      <td>0.0289</td>\n",
       "      <td>0.0228</td>\n",
       "    </tr>\n",
       "    <tr>\n",
       "      <th>121298</th>\n",
       "      <td>2011.0</td>\n",
       "      <td>Male</td>\n",
       "      <td>Quintile 2</td>\n",
       "      <td>Rural</td>\n",
       "      <td>0.1302</td>\n",
       "      <td>0.1436</td>\n",
       "      <td>0.4997</td>\n",
       "      <td>0.2275</td>\n",
       "      <td>0.1640</td>\n",
       "      <td>0.0880</td>\n",
       "    </tr>\n",
       "    <tr>\n",
       "      <th>121299</th>\n",
       "      <td>2011.0</td>\n",
       "      <td>Male</td>\n",
       "      <td>Quintile 3</td>\n",
       "      <td>Rural</td>\n",
       "      <td>0.1045</td>\n",
       "      <td>0.1197</td>\n",
       "      <td>0.5417</td>\n",
       "      <td>0.2799</td>\n",
       "      <td>0.1900</td>\n",
       "      <td>0.0645</td>\n",
       "    </tr>\n",
       "    <tr>\n",
       "      <th>121300</th>\n",
       "      <td>2011.0</td>\n",
       "      <td>Male</td>\n",
       "      <td>Quintile 4</td>\n",
       "      <td>Rural</td>\n",
       "      <td>0.0859</td>\n",
       "      <td>0.1358</td>\n",
       "      <td>0.3907</td>\n",
       "      <td>0.3948</td>\n",
       "      <td>0.2063</td>\n",
       "      <td>0.0853</td>\n",
       "    </tr>\n",
       "    <tr>\n",
       "      <th>121301</th>\n",
       "      <td>2011.0</td>\n",
       "      <td>Male</td>\n",
       "      <td>Quintile 5</td>\n",
       "      <td>Rural</td>\n",
       "      <td>0.0665</td>\n",
       "      <td>0.2009</td>\n",
       "      <td>0.4255</td>\n",
       "      <td>0.6167</td>\n",
       "      <td>0.5064</td>\n",
       "      <td>0.2776</td>\n",
       "    </tr>\n",
       "    <tr>\n",
       "      <th>121305</th>\n",
       "      <td>2011.0</td>\n",
       "      <td>Male</td>\n",
       "      <td>Quintile 4</td>\n",
       "      <td>Urban</td>\n",
       "      <td>0.1103</td>\n",
       "      <td>0.0869</td>\n",
       "      <td>0.3889</td>\n",
       "      <td>0.5926</td>\n",
       "      <td>0.2869</td>\n",
       "      <td>0.2827</td>\n",
       "    </tr>\n",
       "    <tr>\n",
       "      <th>121306</th>\n",
       "      <td>2011.0</td>\n",
       "      <td>Male</td>\n",
       "      <td>Quintile 5</td>\n",
       "      <td>Urban</td>\n",
       "      <td>0.0577</td>\n",
       "      <td>0.1881</td>\n",
       "      <td>0.4160</td>\n",
       "      <td>0.7436</td>\n",
       "      <td>0.5659</td>\n",
       "      <td>0.5188</td>\n",
       "    </tr>\n",
       "    <tr>\n",
       "      <th>121536</th>\n",
       "      <td>2016.0</td>\n",
       "      <td>Female</td>\n",
       "      <td>Quintile 1</td>\n",
       "      <td>Rural</td>\n",
       "      <td>0.2264</td>\n",
       "      <td>0.3537</td>\n",
       "      <td>0.8646</td>\n",
       "      <td>0.1717</td>\n",
       "      <td>0.0380</td>\n",
       "      <td>0.0285</td>\n",
       "    </tr>\n",
       "    <tr>\n",
       "      <th>121537</th>\n",
       "      <td>2016.0</td>\n",
       "      <td>Female</td>\n",
       "      <td>Quintile 2</td>\n",
       "      <td>Rural</td>\n",
       "      <td>0.1237</td>\n",
       "      <td>0.2613</td>\n",
       "      <td>0.7997</td>\n",
       "      <td>0.2588</td>\n",
       "      <td>0.0916</td>\n",
       "      <td>0.0316</td>\n",
       "    </tr>\n",
       "    <tr>\n",
       "      <th>121538</th>\n",
       "      <td>2016.0</td>\n",
       "      <td>Female</td>\n",
       "      <td>Quintile 3</td>\n",
       "      <td>Rural</td>\n",
       "      <td>0.1116</td>\n",
       "      <td>0.2455</td>\n",
       "      <td>0.6909</td>\n",
       "      <td>0.4525</td>\n",
       "      <td>0.1251</td>\n",
       "      <td>0.0630</td>\n",
       "    </tr>\n",
       "    <tr>\n",
       "      <th>121539</th>\n",
       "      <td>2016.0</td>\n",
       "      <td>Female</td>\n",
       "      <td>Quintile 4</td>\n",
       "      <td>Rural</td>\n",
       "      <td>0.0956</td>\n",
       "      <td>0.1990</td>\n",
       "      <td>0.6450</td>\n",
       "      <td>0.5593</td>\n",
       "      <td>0.2527</td>\n",
       "      <td>0.1065</td>\n",
       "    </tr>\n",
       "    <tr>\n",
       "      <th>121540</th>\n",
       "      <td>2016.0</td>\n",
       "      <td>Female</td>\n",
       "      <td>Quintile 5</td>\n",
       "      <td>Rural</td>\n",
       "      <td>0.0470</td>\n",
       "      <td>0.2939</td>\n",
       "      <td>0.6091</td>\n",
       "      <td>0.6361</td>\n",
       "      <td>0.4679</td>\n",
       "      <td>0.3642</td>\n",
       "    </tr>\n",
       "    <tr>\n",
       "      <th>121544</th>\n",
       "      <td>2016.0</td>\n",
       "      <td>Female</td>\n",
       "      <td>Quintile 4</td>\n",
       "      <td>Urban</td>\n",
       "      <td>0.0659</td>\n",
       "      <td>0.2309</td>\n",
       "      <td>0.7867</td>\n",
       "      <td>0.6360</td>\n",
       "      <td>0.3513</td>\n",
       "      <td>0.1554</td>\n",
       "    </tr>\n",
       "    <tr>\n",
       "      <th>121545</th>\n",
       "      <td>2016.0</td>\n",
       "      <td>Female</td>\n",
       "      <td>Quintile 5</td>\n",
       "      <td>Urban</td>\n",
       "      <td>0.0671</td>\n",
       "      <td>0.3597</td>\n",
       "      <td>0.6535</td>\n",
       "      <td>0.7406</td>\n",
       "      <td>0.5782</td>\n",
       "      <td>0.3693</td>\n",
       "    </tr>\n",
       "    <tr>\n",
       "      <th>121546</th>\n",
       "      <td>2016.0</td>\n",
       "      <td>Male</td>\n",
       "      <td>Quintile 1</td>\n",
       "      <td>Rural</td>\n",
       "      <td>0.1871</td>\n",
       "      <td>0.2902</td>\n",
       "      <td>0.6559</td>\n",
       "      <td>0.2014</td>\n",
       "      <td>0.0837</td>\n",
       "      <td>0.0186</td>\n",
       "    </tr>\n",
       "    <tr>\n",
       "      <th>121547</th>\n",
       "      <td>2016.0</td>\n",
       "      <td>Male</td>\n",
       "      <td>Quintile 2</td>\n",
       "      <td>Rural</td>\n",
       "      <td>0.1463</td>\n",
       "      <td>0.2472</td>\n",
       "      <td>0.5985</td>\n",
       "      <td>0.2805</td>\n",
       "      <td>0.1139</td>\n",
       "      <td>0.0813</td>\n",
       "    </tr>\n",
       "    <tr>\n",
       "      <th>121548</th>\n",
       "      <td>2016.0</td>\n",
       "      <td>Male</td>\n",
       "      <td>Quintile 3</td>\n",
       "      <td>Rural</td>\n",
       "      <td>0.1136</td>\n",
       "      <td>0.2507</td>\n",
       "      <td>0.5385</td>\n",
       "      <td>0.3771</td>\n",
       "      <td>0.1882</td>\n",
       "      <td>0.0730</td>\n",
       "    </tr>\n",
       "    <tr>\n",
       "      <th>121549</th>\n",
       "      <td>2016.0</td>\n",
       "      <td>Male</td>\n",
       "      <td>Quintile 4</td>\n",
       "      <td>Rural</td>\n",
       "      <td>0.1182</td>\n",
       "      <td>0.2529</td>\n",
       "      <td>0.5614</td>\n",
       "      <td>0.5190</td>\n",
       "      <td>0.3328</td>\n",
       "      <td>0.1626</td>\n",
       "    </tr>\n",
       "    <tr>\n",
       "      <th>121550</th>\n",
       "      <td>2016.0</td>\n",
       "      <td>Male</td>\n",
       "      <td>Quintile 5</td>\n",
       "      <td>Rural</td>\n",
       "      <td>0.0834</td>\n",
       "      <td>0.2243</td>\n",
       "      <td>0.5638</td>\n",
       "      <td>0.6233</td>\n",
       "      <td>0.4187</td>\n",
       "      <td>0.4641</td>\n",
       "    </tr>\n",
       "    <tr>\n",
       "      <th>121551</th>\n",
       "      <td>2016.0</td>\n",
       "      <td>Male</td>\n",
       "      <td>Quintile 1</td>\n",
       "      <td>Urban</td>\n",
       "      <td>0.2506</td>\n",
       "      <td>0.3464</td>\n",
       "      <td>0.6395</td>\n",
       "      <td>0.2210</td>\n",
       "      <td>0.2129</td>\n",
       "      <td>0.0829</td>\n",
       "    </tr>\n",
       "    <tr>\n",
       "      <th>121554</th>\n",
       "      <td>2016.0</td>\n",
       "      <td>Male</td>\n",
       "      <td>Quintile 4</td>\n",
       "      <td>Urban</td>\n",
       "      <td>0.1147</td>\n",
       "      <td>0.2267</td>\n",
       "      <td>0.5295</td>\n",
       "      <td>0.5594</td>\n",
       "      <td>0.3599</td>\n",
       "      <td>0.1880</td>\n",
       "    </tr>\n",
       "    <tr>\n",
       "      <th>121555</th>\n",
       "      <td>2016.0</td>\n",
       "      <td>Male</td>\n",
       "      <td>Quintile 5</td>\n",
       "      <td>Urban</td>\n",
       "      <td>0.0714</td>\n",
       "      <td>0.2639</td>\n",
       "      <td>0.5322</td>\n",
       "      <td>0.7906</td>\n",
       "      <td>0.5999</td>\n",
       "      <td>0.4817</td>\n",
       "    </tr>\n",
       "  </tbody>\n",
       "</table>\n",
       "</div>"
      ],
      "text/plain": [
       "          year     Sex      Wealth Location  eduout_prim_m  eduout_lowsec_m  \\\n",
       "121029  2006.0  Female  Quintile 1    Rural         0.2862           0.2925   \n",
       "121030  2006.0  Female  Quintile 2    Rural         0.2143           0.1740   \n",
       "121031  2006.0  Female  Quintile 3    Rural         0.1816           0.1570   \n",
       "121032  2006.0  Female  Quintile 4    Rural         0.1305           0.0696   \n",
       "121033  2006.0  Female  Quintile 5    Rural         0.1080           0.1227   \n",
       "121035  2006.0  Female  Quintile 5    Urban         0.0861           0.1911   \n",
       "121036  2006.0    Male  Quintile 1    Rural         0.2638           0.1864   \n",
       "121037  2006.0    Male  Quintile 2    Rural         0.1750           0.1613   \n",
       "121038  2006.0    Male  Quintile 3    Rural         0.1742           0.1525   \n",
       "121039  2006.0    Male  Quintile 4    Rural         0.1425           0.1470   \n",
       "121040  2006.0    Male  Quintile 5    Rural         0.1236           0.0887   \n",
       "121044  2006.0    Male  Quintile 5    Urban         0.0692           0.0789   \n",
       "121287  2011.0  Female  Quintile 1    Rural         0.2142           0.3171   \n",
       "121288  2011.0  Female  Quintile 2    Rural         0.1128           0.1372   \n",
       "121289  2011.0  Female  Quintile 3    Rural         0.0853           0.1849   \n",
       "121290  2011.0  Female  Quintile 4    Rural         0.0706           0.1233   \n",
       "121291  2011.0  Female  Quintile 5    Rural         0.0497           0.1247   \n",
       "121295  2011.0  Female  Quintile 4    Urban         0.0443           0.0898   \n",
       "121296  2011.0  Female  Quintile 5    Urban         0.0826           0.3420   \n",
       "121297  2011.0    Male  Quintile 1    Rural         0.1673           0.1963   \n",
       "121298  2011.0    Male  Quintile 2    Rural         0.1302           0.1436   \n",
       "121299  2011.0    Male  Quintile 3    Rural         0.1045           0.1197   \n",
       "121300  2011.0    Male  Quintile 4    Rural         0.0859           0.1358   \n",
       "121301  2011.0    Male  Quintile 5    Rural         0.0665           0.2009   \n",
       "121305  2011.0    Male  Quintile 4    Urban         0.1103           0.0869   \n",
       "121306  2011.0    Male  Quintile 5    Urban         0.0577           0.1881   \n",
       "121536  2016.0  Female  Quintile 1    Rural         0.2264           0.3537   \n",
       "121537  2016.0  Female  Quintile 2    Rural         0.1237           0.2613   \n",
       "121538  2016.0  Female  Quintile 3    Rural         0.1116           0.2455   \n",
       "121539  2016.0  Female  Quintile 4    Rural         0.0956           0.1990   \n",
       "121540  2016.0  Female  Quintile 5    Rural         0.0470           0.2939   \n",
       "121544  2016.0  Female  Quintile 4    Urban         0.0659           0.2309   \n",
       "121545  2016.0  Female  Quintile 5    Urban         0.0671           0.3597   \n",
       "121546  2016.0    Male  Quintile 1    Rural         0.1871           0.2902   \n",
       "121547  2016.0    Male  Quintile 2    Rural         0.1463           0.2472   \n",
       "121548  2016.0    Male  Quintile 3    Rural         0.1136           0.2507   \n",
       "121549  2016.0    Male  Quintile 4    Rural         0.1182           0.2529   \n",
       "121550  2016.0    Male  Quintile 5    Rural         0.0834           0.2243   \n",
       "121551  2016.0    Male  Quintile 1    Urban         0.2506           0.3464   \n",
       "121554  2016.0    Male  Quintile 4    Urban         0.1147           0.2267   \n",
       "121555  2016.0    Male  Quintile 5    Urban         0.0714           0.2639   \n",
       "\n",
       "        eduout_upsec_m  comp_prim_v2_m  comp_lowsec_v2_m  comp_upsec_v2_m  \n",
       "121029          0.7342          0.0826            0.0029           0.0094  \n",
       "121030          0.6584          0.1255            0.0519           0.0240  \n",
       "121031          0.5785          0.2063            0.0406           0.0439  \n",
       "121032          0.5618          0.3007            0.0970           0.0361  \n",
       "121033          0.3847          0.5783            0.3007           0.1173  \n",
       "121035          0.4619          0.6914            0.4560           0.3170  \n",
       "121036          0.4920          0.1004            0.0350           0.0186  \n",
       "121037          0.4254          0.1138            0.0499           0.0705  \n",
       "121038          0.4958          0.1816            0.0708           0.0410  \n",
       "121039          0.4254          0.3045            0.1563           0.1248  \n",
       "121040          0.3317          0.5263            0.2854           0.2025  \n",
       "121044          0.3931          0.7039            0.3929           0.3164  \n",
       "121287          0.8401          0.1313            0.0280           0.0098  \n",
       "121288          0.7751          0.3024            0.0774           0.0309  \n",
       "121289          0.6904          0.3036            0.0959           0.0240  \n",
       "121290          0.6010          0.5467            0.2172           0.0717  \n",
       "121291          0.5050          0.5874            0.3916           0.2790  \n",
       "121295          0.7460          0.6785            0.4859           0.0749  \n",
       "121296          0.6810          0.7331            0.5249           0.3581  \n",
       "121297          0.5494          0.1351            0.0289           0.0228  \n",
       "121298          0.4997          0.2275            0.1640           0.0880  \n",
       "121299          0.5417          0.2799            0.1900           0.0645  \n",
       "121300          0.3907          0.3948            0.2063           0.0853  \n",
       "121301          0.4255          0.6167            0.5064           0.2776  \n",
       "121305          0.3889          0.5926            0.2869           0.2827  \n",
       "121306          0.4160          0.7436            0.5659           0.5188  \n",
       "121536          0.8646          0.1717            0.0380           0.0285  \n",
       "121537          0.7997          0.2588            0.0916           0.0316  \n",
       "121538          0.6909          0.4525            0.1251           0.0630  \n",
       "121539          0.6450          0.5593            0.2527           0.1065  \n",
       "121540          0.6091          0.6361            0.4679           0.3642  \n",
       "121544          0.7867          0.6360            0.3513           0.1554  \n",
       "121545          0.6535          0.7406            0.5782           0.3693  \n",
       "121546          0.6559          0.2014            0.0837           0.0186  \n",
       "121547          0.5985          0.2805            0.1139           0.0813  \n",
       "121548          0.5385          0.3771            0.1882           0.0730  \n",
       "121549          0.5614          0.5190            0.3328           0.1626  \n",
       "121550          0.5638          0.6233            0.4187           0.4641  \n",
       "121551          0.6395          0.2210            0.2129           0.0829  \n",
       "121554          0.5295          0.5594            0.3599           0.1880  \n",
       "121555          0.5322          0.7906            0.5999           0.4817  "
      ]
     },
     "execution_count": 14,
     "metadata": {},
     "output_type": "execute_result"
    }
   ],
   "source": [
    "## Since we are confident that missing values are deleted, \n",
    "## we assign this new dataset a name and display it by running this cell\n",
    "uganda = uganda.dropna(how ='any')\n",
    "uganda"
   ]
  },
  {
   "cell_type": "markdown",
   "metadata": {},
   "source": [
    "For a more detailed tutorial on data selection and how to handle missing values, check out the following videos on YouTube if you are interested in exploring more:\n",
    "\n",
    "*[Data Selection](https://www.youtube.com/watch?v=xvpNA7bC8cs)\n",
    "\n",
    "*[Missing Values](https://www.youtube.com/watch?v=fCMrO_VzeL8)"
   ]
  },
  {
   "cell_type": "markdown",
   "metadata": {},
   "source": [
    "### <center><font color = #254117>Congratulations! You've successfully cleaned the data you want to visualize!</font></center>\n",
    "\n",
    "<center>We will now move onto the visualization. Make sure you understand the data cleaning process as we will be using the cleaned data in the parts that follow.</center>"
   ]
  },
  {
   "cell_type": "markdown",
   "metadata": {},
   "source": [
    "## <font color = #254117>Section 2: Summary Statistics and Visualization </font>\n",
    "\n",
    "First lets explore some ways to look at the summary statistics of the entire population by different survey year, using the groupby function."
   ]
  },
  {
   "cell_type": "code",
   "execution_count": 15,
   "metadata": {},
   "outputs": [
    {
     "data": {
      "text/html": [
       "<div>\n",
       "<style scoped>\n",
       "    .dataframe tbody tr th:only-of-type {\n",
       "        vertical-align: middle;\n",
       "    }\n",
       "\n",
       "    .dataframe tbody tr th {\n",
       "        vertical-align: top;\n",
       "    }\n",
       "\n",
       "    .dataframe thead th {\n",
       "        text-align: right;\n",
       "    }\n",
       "</style>\n",
       "<table border=\"1\" class=\"dataframe\">\n",
       "  <thead>\n",
       "    <tr style=\"text-align: right;\">\n",
       "      <th></th>\n",
       "      <th>eduout_prim_m</th>\n",
       "      <th>eduout_lowsec_m</th>\n",
       "      <th>eduout_upsec_m</th>\n",
       "      <th>comp_prim_v2_m</th>\n",
       "      <th>comp_lowsec_v2_m</th>\n",
       "      <th>comp_upsec_v2_m</th>\n",
       "    </tr>\n",
       "    <tr>\n",
       "      <th>year</th>\n",
       "      <th></th>\n",
       "      <th></th>\n",
       "      <th></th>\n",
       "      <th></th>\n",
       "      <th></th>\n",
       "      <th></th>\n",
       "    </tr>\n",
       "  </thead>\n",
       "  <tbody>\n",
       "    <tr>\n",
       "      <th>2006.0</th>\n",
       "      <td>0.162917</td>\n",
       "      <td>0.151808</td>\n",
       "      <td>0.495242</td>\n",
       "      <td>0.326275</td>\n",
       "      <td>0.161617</td>\n",
       "      <td>0.110125</td>\n",
       "    </tr>\n",
       "    <tr>\n",
       "      <th>2011.0</th>\n",
       "      <td>0.098707</td>\n",
       "      <td>0.170736</td>\n",
       "      <td>0.575036</td>\n",
       "      <td>0.448086</td>\n",
       "      <td>0.269236</td>\n",
       "      <td>0.156293</td>\n",
       "    </tr>\n",
       "    <tr>\n",
       "      <th>2016.0</th>\n",
       "      <td>0.121507</td>\n",
       "      <td>0.269753</td>\n",
       "      <td>0.644587</td>\n",
       "      <td>0.468487</td>\n",
       "      <td>0.280987</td>\n",
       "      <td>0.178047</td>\n",
       "    </tr>\n",
       "  </tbody>\n",
       "</table>\n",
       "</div>"
      ],
      "text/plain": [
       "        eduout_prim_m  eduout_lowsec_m  eduout_upsec_m  comp_prim_v2_m  \\\n",
       "year                                                                     \n",
       "2006.0       0.162917         0.151808        0.495242        0.326275   \n",
       "2011.0       0.098707         0.170736        0.575036        0.448086   \n",
       "2016.0       0.121507         0.269753        0.644587        0.468487   \n",
       "\n",
       "        comp_lowsec_v2_m  comp_upsec_v2_m  \n",
       "year                                       \n",
       "2006.0          0.161617         0.110125  \n",
       "2011.0          0.269236         0.156293  \n",
       "2016.0          0.280987         0.178047  "
      ]
     },
     "execution_count": 15,
     "metadata": {},
     "output_type": "execute_result"
    }
   ],
   "source": [
    "# lets look at the overall mean out of school children rate at each level for Uganda, by survey year \n",
    "# Run this cell\n",
    "uganda.groupby('year').mean()"
   ]
  },
  {
   "cell_type": "code",
   "execution_count": 16,
   "metadata": {},
   "outputs": [
    {
     "data": {
      "text/plain": [
       "0.12150666666666665"
      ]
     },
     "execution_count": 16,
     "metadata": {},
     "output_type": "execute_result"
    }
   ],
   "source": [
    "# We can also filter the data by year first, and then compute the mean by running this cell. \n",
    "# This result should be the same as the lower right cell in the table above.\n",
    "uganda[uganda.year==2016].eduout_prim_m.mean()"
   ]
  },
  {
   "cell_type": "markdown",
   "metadata": {},
   "source": [
    "Now let's plot the information in the above table in a line graph."
   ]
  },
  {
   "cell_type": "code",
   "execution_count": 17,
   "metadata": {},
   "outputs": [],
   "source": [
    "#Running this cell allows the plot to appear in the Notebook\n",
    "%matplotlib inline"
   ]
  },
  {
   "cell_type": "code",
   "execution_count": 18,
   "metadata": {},
   "outputs": [
    {
     "data": {
      "text/plain": [
       "<AxesSubplot:xlabel='year'>"
      ]
     },
     "execution_count": 18,
     "metadata": {},
     "output_type": "execute_result"
    },
    {
     "data": {
      "image/png": "[encoded data removed]",
      "text/plain": [
       "<Figure size 432x288 with 1 Axes>"
      ]
     },
     "metadata": {
      "needs_background": "light"
     },
     "output_type": "display_data"
    }
   ],
   "source": [
    "## Run this cell\n",
    "uganda.groupby('year').mean().plot(kind='line')"
   ]
  },
  {
   "cell_type": "markdown",
   "metadata": {},
   "source": [
    "But the label graph is hard to read. Partly this is because the legend is over the plot. We then move the legend outside the box:"
   ]
  },
  {
   "cell_type": "code",
   "execution_count": 19,
   "metadata": {},
   "outputs": [
    {
     "data": {
      "text/plain": [
       "<matplotlib.legend.Legend at 0x7f3d9ae109d0>"
      ]
     },
     "execution_count": 19,
     "metadata": {},
     "output_type": "execute_result"
    },
    {
     "data": {
      "image/png": "[encoded data removed]",
      "text/plain": [
       "<Figure size 432x288 with 1 Axes>"
      ]
     },
     "metadata": {
      "needs_background": "light"
     },
     "output_type": "display_data"
    }
   ],
   "source": [
    "## Run this cell\n",
    "uganda.groupby('year').mean().plot(kind='line').legend(bbox_to_anchor=(1.5, 1),loc='upper right')"
   ]
  },
  {
   "cell_type": "markdown",
   "metadata": {},
   "source": [
    "## <font color = #254117>Disaggregate Data</font>\n",
    "Disaggregating data allows us to identify specific clusters, patterns and barriers to education. It also allows us to identify the various groups of girls (and boys) who experience the most marginalization.  However, disaggregating gender data is only a first step. This disaggregation should be carried out along with other social categories. It is important to keep in mind that national data patterns may radically differ from global patterns and some gender disaggregated data can be deceiving due to measures used. Therefore data should also be triangulated through collecting (and thereby verifying) data from two or more sources. Data can be triangulated through collecting this information in numeric (through databases and other aggregated or disaggregated sources) and non-numeric form (through interviews, observations, surveys). The goal of triangulating data is to overcome the shortcoming and possible biases of relying on data from one source, which is important in conducting a gender analysis. You will use this tutorial to obtain statistics which you will later triangulate by conducting research on the context of the country of your choice.\n",
    "\n",
    "Now we have seen the trend of OOSC in Uganda over the past three survey years, let's narrow down to the most recent year and explore the difference in OOSC for different genders, different locations and across wealth levels to find out the most marginalized children with regards to this indicator. "
   ]
  },
  {
   "cell_type": "code",
   "execution_count": 20,
   "metadata": {},
   "outputs": [
    {
     "data": {
      "text/html": [
       "<div>\n",
       "<style scoped>\n",
       "    .dataframe tbody tr th:only-of-type {\n",
       "        vertical-align: middle;\n",
       "    }\n",
       "\n",
       "    .dataframe tbody tr th {\n",
       "        vertical-align: top;\n",
       "    }\n",
       "\n",
       "    .dataframe thead th {\n",
       "        text-align: right;\n",
       "    }\n",
       "</style>\n",
       "<table border=\"1\" class=\"dataframe\">\n",
       "  <thead>\n",
       "    <tr style=\"text-align: right;\">\n",
       "      <th></th>\n",
       "      <th>Sex</th>\n",
       "      <th>Wealth</th>\n",
       "      <th>Location</th>\n",
       "      <th>eduout_prim_m</th>\n",
       "      <th>eduout_lowsec_m</th>\n",
       "      <th>eduout_upsec_m</th>\n",
       "      <th>comp_prim_v2_m</th>\n",
       "      <th>comp_lowsec_v2_m</th>\n",
       "      <th>comp_upsec_v2_m</th>\n",
       "    </tr>\n",
       "  </thead>\n",
       "  <tbody>\n",
       "    <tr>\n",
       "      <th>121536</th>\n",
       "      <td>Female</td>\n",
       "      <td>Quintile 1</td>\n",
       "      <td>Rural</td>\n",
       "      <td>0.2264</td>\n",
       "      <td>0.3537</td>\n",
       "      <td>0.8646</td>\n",
       "      <td>0.1717</td>\n",
       "      <td>0.0380</td>\n",
       "      <td>0.0285</td>\n",
       "    </tr>\n",
       "    <tr>\n",
       "      <th>121537</th>\n",
       "      <td>Female</td>\n",
       "      <td>Quintile 2</td>\n",
       "      <td>Rural</td>\n",
       "      <td>0.1237</td>\n",
       "      <td>0.2613</td>\n",
       "      <td>0.7997</td>\n",
       "      <td>0.2588</td>\n",
       "      <td>0.0916</td>\n",
       "      <td>0.0316</td>\n",
       "    </tr>\n",
       "    <tr>\n",
       "      <th>121538</th>\n",
       "      <td>Female</td>\n",
       "      <td>Quintile 3</td>\n",
       "      <td>Rural</td>\n",
       "      <td>0.1116</td>\n",
       "      <td>0.2455</td>\n",
       "      <td>0.6909</td>\n",
       "      <td>0.4525</td>\n",
       "      <td>0.1251</td>\n",
       "      <td>0.0630</td>\n",
       "    </tr>\n",
       "    <tr>\n",
       "      <th>121539</th>\n",
       "      <td>Female</td>\n",
       "      <td>Quintile 4</td>\n",
       "      <td>Rural</td>\n",
       "      <td>0.0956</td>\n",
       "      <td>0.1990</td>\n",
       "      <td>0.6450</td>\n",
       "      <td>0.5593</td>\n",
       "      <td>0.2527</td>\n",
       "      <td>0.1065</td>\n",
       "    </tr>\n",
       "    <tr>\n",
       "      <th>121540</th>\n",
       "      <td>Female</td>\n",
       "      <td>Quintile 5</td>\n",
       "      <td>Rural</td>\n",
       "      <td>0.0470</td>\n",
       "      <td>0.2939</td>\n",
       "      <td>0.6091</td>\n",
       "      <td>0.6361</td>\n",
       "      <td>0.4679</td>\n",
       "      <td>0.3642</td>\n",
       "    </tr>\n",
       "    <tr>\n",
       "      <th>121544</th>\n",
       "      <td>Female</td>\n",
       "      <td>Quintile 4</td>\n",
       "      <td>Urban</td>\n",
       "      <td>0.0659</td>\n",
       "      <td>0.2309</td>\n",
       "      <td>0.7867</td>\n",
       "      <td>0.6360</td>\n",
       "      <td>0.3513</td>\n",
       "      <td>0.1554</td>\n",
       "    </tr>\n",
       "    <tr>\n",
       "      <th>121545</th>\n",
       "      <td>Female</td>\n",
       "      <td>Quintile 5</td>\n",
       "      <td>Urban</td>\n",
       "      <td>0.0671</td>\n",
       "      <td>0.3597</td>\n",
       "      <td>0.6535</td>\n",
       "      <td>0.7406</td>\n",
       "      <td>0.5782</td>\n",
       "      <td>0.3693</td>\n",
       "    </tr>\n",
       "    <tr>\n",
       "      <th>121546</th>\n",
       "      <td>Male</td>\n",
       "      <td>Quintile 1</td>\n",
       "      <td>Rural</td>\n",
       "      <td>0.1871</td>\n",
       "      <td>0.2902</td>\n",
       "      <td>0.6559</td>\n",
       "      <td>0.2014</td>\n",
       "      <td>0.0837</td>\n",
       "      <td>0.0186</td>\n",
       "    </tr>\n",
       "    <tr>\n",
       "      <th>121547</th>\n",
       "      <td>Male</td>\n",
       "      <td>Quintile 2</td>\n",
       "      <td>Rural</td>\n",
       "      <td>0.1463</td>\n",
       "      <td>0.2472</td>\n",
       "      <td>0.5985</td>\n",
       "      <td>0.2805</td>\n",
       "      <td>0.1139</td>\n",
       "      <td>0.0813</td>\n",
       "    </tr>\n",
       "    <tr>\n",
       "      <th>121548</th>\n",
       "      <td>Male</td>\n",
       "      <td>Quintile 3</td>\n",
       "      <td>Rural</td>\n",
       "      <td>0.1136</td>\n",
       "      <td>0.2507</td>\n",
       "      <td>0.5385</td>\n",
       "      <td>0.3771</td>\n",
       "      <td>0.1882</td>\n",
       "      <td>0.0730</td>\n",
       "    </tr>\n",
       "    <tr>\n",
       "      <th>121549</th>\n",
       "      <td>Male</td>\n",
       "      <td>Quintile 4</td>\n",
       "      <td>Rural</td>\n",
       "      <td>0.1182</td>\n",
       "      <td>0.2529</td>\n",
       "      <td>0.5614</td>\n",
       "      <td>0.5190</td>\n",
       "      <td>0.3328</td>\n",
       "      <td>0.1626</td>\n",
       "    </tr>\n",
       "    <tr>\n",
       "      <th>121550</th>\n",
       "      <td>Male</td>\n",
       "      <td>Quintile 5</td>\n",
       "      <td>Rural</td>\n",
       "      <td>0.0834</td>\n",
       "      <td>0.2243</td>\n",
       "      <td>0.5638</td>\n",
       "      <td>0.6233</td>\n",
       "      <td>0.4187</td>\n",
       "      <td>0.4641</td>\n",
       "    </tr>\n",
       "    <tr>\n",
       "      <th>121551</th>\n",
       "      <td>Male</td>\n",
       "      <td>Quintile 1</td>\n",
       "      <td>Urban</td>\n",
       "      <td>0.2506</td>\n",
       "      <td>0.3464</td>\n",
       "      <td>0.6395</td>\n",
       "      <td>0.2210</td>\n",
       "      <td>0.2129</td>\n",
       "      <td>0.0829</td>\n",
       "    </tr>\n",
       "    <tr>\n",
       "      <th>121554</th>\n",
       "      <td>Male</td>\n",
       "      <td>Quintile 4</td>\n",
       "      <td>Urban</td>\n",
       "      <td>0.1147</td>\n",
       "      <td>0.2267</td>\n",
       "      <td>0.5295</td>\n",
       "      <td>0.5594</td>\n",
       "      <td>0.3599</td>\n",
       "      <td>0.1880</td>\n",
       "    </tr>\n",
       "    <tr>\n",
       "      <th>121555</th>\n",
       "      <td>Male</td>\n",
       "      <td>Quintile 5</td>\n",
       "      <td>Urban</td>\n",
       "      <td>0.0714</td>\n",
       "      <td>0.2639</td>\n",
       "      <td>0.5322</td>\n",
       "      <td>0.7906</td>\n",
       "      <td>0.5999</td>\n",
       "      <td>0.4817</td>\n",
       "    </tr>\n",
       "  </tbody>\n",
       "</table>\n",
       "</div>"
      ],
      "text/plain": [
       "           Sex      Wealth Location  eduout_prim_m  eduout_lowsec_m  \\\n",
       "121536  Female  Quintile 1    Rural         0.2264           0.3537   \n",
       "121537  Female  Quintile 2    Rural         0.1237           0.2613   \n",
       "121538  Female  Quintile 3    Rural         0.1116           0.2455   \n",
       "121539  Female  Quintile 4    Rural         0.0956           0.1990   \n",
       "121540  Female  Quintile 5    Rural         0.0470           0.2939   \n",
       "121544  Female  Quintile 4    Urban         0.0659           0.2309   \n",
       "121545  Female  Quintile 5    Urban         0.0671           0.3597   \n",
       "121546    Male  Quintile 1    Rural         0.1871           0.2902   \n",
       "121547    Male  Quintile 2    Rural         0.1463           0.2472   \n",
       "121548    Male  Quintile 3    Rural         0.1136           0.2507   \n",
       "121549    Male  Quintile 4    Rural         0.1182           0.2529   \n",
       "121550    Male  Quintile 5    Rural         0.0834           0.2243   \n",
       "121551    Male  Quintile 1    Urban         0.2506           0.3464   \n",
       "121554    Male  Quintile 4    Urban         0.1147           0.2267   \n",
       "121555    Male  Quintile 5    Urban         0.0714           0.2639   \n",
       "\n",
       "        eduout_upsec_m  comp_prim_v2_m  comp_lowsec_v2_m  comp_upsec_v2_m  \n",
       "121536          0.8646          0.1717            0.0380           0.0285  \n",
       "121537          0.7997          0.2588            0.0916           0.0316  \n",
       "121538          0.6909          0.4525            0.1251           0.0630  \n",
       "121539          0.6450          0.5593            0.2527           0.1065  \n",
       "121540          0.6091          0.6361            0.4679           0.3642  \n",
       "121544          0.7867          0.6360            0.3513           0.1554  \n",
       "121545          0.6535          0.7406            0.5782           0.3693  \n",
       "121546          0.6559          0.2014            0.0837           0.0186  \n",
       "121547          0.5985          0.2805            0.1139           0.0813  \n",
       "121548          0.5385          0.3771            0.1882           0.0730  \n",
       "121549          0.5614          0.5190            0.3328           0.1626  \n",
       "121550          0.5638          0.6233            0.4187           0.4641  \n",
       "121551          0.6395          0.2210            0.2129           0.0829  \n",
       "121554          0.5295          0.5594            0.3599           0.1880  \n",
       "121555          0.5322          0.7906            0.5999           0.4817  "
      ]
     },
     "execution_count": 20,
     "metadata": {},
     "output_type": "execute_result"
    }
   ],
   "source": [
    "# First, select only Uganda data from 2016 by running this cell\n",
    "uganda16 = uganda.loc[uganda.year == 2016,['Sex','Wealth','Location','eduout_prim_m','eduout_lowsec_m',\n",
    "       'eduout_upsec_m', 'comp_prim_v2_m',\n",
    "       'comp_lowsec_v2_m', 'comp_upsec_v2_m']]\n",
    "uganda16"
   ]
  },
  {
   "cell_type": "code",
   "execution_count": 21,
   "metadata": {},
   "outputs": [
    {
     "data": {
      "text/html": [
       "<div>\n",
       "<style scoped>\n",
       "    .dataframe tbody tr th:only-of-type {\n",
       "        vertical-align: middle;\n",
       "    }\n",
       "\n",
       "    .dataframe tbody tr th {\n",
       "        vertical-align: top;\n",
       "    }\n",
       "\n",
       "    .dataframe thead th {\n",
       "        text-align: right;\n",
       "    }\n",
       "</style>\n",
       "<table border=\"1\" class=\"dataframe\">\n",
       "  <thead>\n",
       "    <tr style=\"text-align: right;\">\n",
       "      <th></th>\n",
       "      <th>Sex</th>\n",
       "      <th>Wealth</th>\n",
       "      <th>Location</th>\n",
       "      <th>Out of Primary</th>\n",
       "      <th>Out of Lower Sec</th>\n",
       "      <th>Out of Upper Sec</th>\n",
       "    </tr>\n",
       "  </thead>\n",
       "  <tbody>\n",
       "    <tr>\n",
       "      <th>121536</th>\n",
       "      <td>Female</td>\n",
       "      <td>Quintile 1</td>\n",
       "      <td>Rural</td>\n",
       "      <td>0.2264</td>\n",
       "      <td>0.3537</td>\n",
       "      <td>0.8646</td>\n",
       "    </tr>\n",
       "    <tr>\n",
       "      <th>121537</th>\n",
       "      <td>Female</td>\n",
       "      <td>Quintile 2</td>\n",
       "      <td>Rural</td>\n",
       "      <td>0.1237</td>\n",
       "      <td>0.2613</td>\n",
       "      <td>0.7997</td>\n",
       "    </tr>\n",
       "    <tr>\n",
       "      <th>121538</th>\n",
       "      <td>Female</td>\n",
       "      <td>Quintile 3</td>\n",
       "      <td>Rural</td>\n",
       "      <td>0.1116</td>\n",
       "      <td>0.2455</td>\n",
       "      <td>0.6909</td>\n",
       "    </tr>\n",
       "    <tr>\n",
       "      <th>121539</th>\n",
       "      <td>Female</td>\n",
       "      <td>Quintile 4</td>\n",
       "      <td>Rural</td>\n",
       "      <td>0.0956</td>\n",
       "      <td>0.1990</td>\n",
       "      <td>0.6450</td>\n",
       "    </tr>\n",
       "    <tr>\n",
       "      <th>121540</th>\n",
       "      <td>Female</td>\n",
       "      <td>Quintile 5</td>\n",
       "      <td>Rural</td>\n",
       "      <td>0.0470</td>\n",
       "      <td>0.2939</td>\n",
       "      <td>0.6091</td>\n",
       "    </tr>\n",
       "    <tr>\n",
       "      <th>121544</th>\n",
       "      <td>Female</td>\n",
       "      <td>Quintile 4</td>\n",
       "      <td>Urban</td>\n",
       "      <td>0.0659</td>\n",
       "      <td>0.2309</td>\n",
       "      <td>0.7867</td>\n",
       "    </tr>\n",
       "    <tr>\n",
       "      <th>121545</th>\n",
       "      <td>Female</td>\n",
       "      <td>Quintile 5</td>\n",
       "      <td>Urban</td>\n",
       "      <td>0.0671</td>\n",
       "      <td>0.3597</td>\n",
       "      <td>0.6535</td>\n",
       "    </tr>\n",
       "    <tr>\n",
       "      <th>121546</th>\n",
       "      <td>Male</td>\n",
       "      <td>Quintile 1</td>\n",
       "      <td>Rural</td>\n",
       "      <td>0.1871</td>\n",
       "      <td>0.2902</td>\n",
       "      <td>0.6559</td>\n",
       "    </tr>\n",
       "    <tr>\n",
       "      <th>121547</th>\n",
       "      <td>Male</td>\n",
       "      <td>Quintile 2</td>\n",
       "      <td>Rural</td>\n",
       "      <td>0.1463</td>\n",
       "      <td>0.2472</td>\n",
       "      <td>0.5985</td>\n",
       "    </tr>\n",
       "    <tr>\n",
       "      <th>121548</th>\n",
       "      <td>Male</td>\n",
       "      <td>Quintile 3</td>\n",
       "      <td>Rural</td>\n",
       "      <td>0.1136</td>\n",
       "      <td>0.2507</td>\n",
       "      <td>0.5385</td>\n",
       "    </tr>\n",
       "    <tr>\n",
       "      <th>121549</th>\n",
       "      <td>Male</td>\n",
       "      <td>Quintile 4</td>\n",
       "      <td>Rural</td>\n",
       "      <td>0.1182</td>\n",
       "      <td>0.2529</td>\n",
       "      <td>0.5614</td>\n",
       "    </tr>\n",
       "    <tr>\n",
       "      <th>121550</th>\n",
       "      <td>Male</td>\n",
       "      <td>Quintile 5</td>\n",
       "      <td>Rural</td>\n",
       "      <td>0.0834</td>\n",
       "      <td>0.2243</td>\n",
       "      <td>0.5638</td>\n",
       "    </tr>\n",
       "    <tr>\n",
       "      <th>121551</th>\n",
       "      <td>Male</td>\n",
       "      <td>Quintile 1</td>\n",
       "      <td>Urban</td>\n",
       "      <td>0.2506</td>\n",
       "      <td>0.3464</td>\n",
       "      <td>0.6395</td>\n",
       "    </tr>\n",
       "    <tr>\n",
       "      <th>121554</th>\n",
       "      <td>Male</td>\n",
       "      <td>Quintile 4</td>\n",
       "      <td>Urban</td>\n",
       "      <td>0.1147</td>\n",
       "      <td>0.2267</td>\n",
       "      <td>0.5295</td>\n",
       "    </tr>\n",
       "    <tr>\n",
       "      <th>121555</th>\n",
       "      <td>Male</td>\n",
       "      <td>Quintile 5</td>\n",
       "      <td>Urban</td>\n",
       "      <td>0.0714</td>\n",
       "      <td>0.2639</td>\n",
       "      <td>0.5322</td>\n",
       "    </tr>\n",
       "  </tbody>\n",
       "</table>\n",
       "</div>"
      ],
      "text/plain": [
       "           Sex      Wealth Location  Out of Primary  Out of Lower Sec  \\\n",
       "121536  Female  Quintile 1    Rural          0.2264            0.3537   \n",
       "121537  Female  Quintile 2    Rural          0.1237            0.2613   \n",
       "121538  Female  Quintile 3    Rural          0.1116            0.2455   \n",
       "121539  Female  Quintile 4    Rural          0.0956            0.1990   \n",
       "121540  Female  Quintile 5    Rural          0.0470            0.2939   \n",
       "121544  Female  Quintile 4    Urban          0.0659            0.2309   \n",
       "121545  Female  Quintile 5    Urban          0.0671            0.3597   \n",
       "121546    Male  Quintile 1    Rural          0.1871            0.2902   \n",
       "121547    Male  Quintile 2    Rural          0.1463            0.2472   \n",
       "121548    Male  Quintile 3    Rural          0.1136            0.2507   \n",
       "121549    Male  Quintile 4    Rural          0.1182            0.2529   \n",
       "121550    Male  Quintile 5    Rural          0.0834            0.2243   \n",
       "121551    Male  Quintile 1    Urban          0.2506            0.3464   \n",
       "121554    Male  Quintile 4    Urban          0.1147            0.2267   \n",
       "121555    Male  Quintile 5    Urban          0.0714            0.2639   \n",
       "\n",
       "        Out of Upper Sec  \n",
       "121536            0.8646  \n",
       "121537            0.7997  \n",
       "121538            0.6909  \n",
       "121539            0.6450  \n",
       "121540            0.6091  \n",
       "121544            0.7867  \n",
       "121545            0.6535  \n",
       "121546            0.6559  \n",
       "121547            0.5985  \n",
       "121548            0.5385  \n",
       "121549            0.5614  \n",
       "121550            0.5638  \n",
       "121551            0.6395  \n",
       "121554            0.5295  \n",
       "121555            0.5322  "
      ]
     },
     "execution_count": 21,
     "metadata": {},
     "output_type": "execute_result"
    }
   ],
   "source": [
    "##If you want to add labels to your tables, you can always modify the name of the variable like this:\n",
    "\n",
    "uganda2=uganda.loc[uganda.year == 2016,['Sex','Wealth','Location','eduout_prim_m','eduout_lowsec_m',\n",
    "       'eduout_upsec_m']]\n",
    "uganda2 = uganda2.rename(columns = {\"eduout_prim_m\":\"Out of Primary\",\"eduout_lowsec_m\":\"Out of Lower Sec\",\"eduout_upsec_m\":\"Out of Upper Sec\"}) \n",
    "uganda2"
   ]
  },
  {
   "cell_type": "markdown",
   "metadata": {},
   "source": [
    "### <font color = #254117>Urban vs. Rural Locations</font>"
   ]
  },
  {
   "cell_type": "code",
   "execution_count": 22,
   "metadata": {},
   "outputs": [
    {
     "data": {
      "text/plain": [
       "<matplotlib.legend.Legend at 0x7f3d9ad74a90>"
      ]
     },
     "execution_count": 22,
     "metadata": {},
     "output_type": "execute_result"
    },
    {
     "data": {
      "image/png": "[encoded data removed]",
      "text/plain": [
       "<Figure size 432x288 with 1 Axes>"
      ]
     },
     "metadata": {
      "needs_background": "light"
     },
     "output_type": "display_data"
    }
   ],
   "source": [
    "## By running this cell,  you produce a graph of the OOSC at each level between rural and urban locations\n",
    "uganda16.groupby('Location').mean().plot(kind='bar').legend(bbox_to_anchor=(1, 0.5))"
   ]
  },
  {
   "cell_type": "markdown",
   "metadata": {},
   "source": [
    "We can divide the plot into two graphs: one that shows the out of school indicators and another that shows the completion rates. To do that, we create the following syntax where include the sociodemographic variable 'location' and the three indicators we want to plot. "
   ]
  },
  {
   "cell_type": "code",
   "execution_count": 31,
   "metadata": {},
   "outputs": [
    {
     "data": {
      "text/plain": [
       "<matplotlib.legend.Legend at 0x7f3d9ad5dc40>"
      ]
     },
     "execution_count": 31,
     "metadata": {},
     "output_type": "execute_result"
    },
    {
     "data": {
      "image/png": "[encoded data removed]",
      "text/plain": [
       "<Figure size 432x288 with 1 Axes>"
      ]
     },
     "metadata": {
      "needs_background": "light"
     },
     "output_type": "display_data"
    }
   ],
   "source": [
    "uganda16[['Location','comp_prim_v2_m','comp_lowsec_v2_m', 'comp_upsec_v2_m']].groupby('Location').mean().plot(kind='bar').legend(bbox_to_anchor=(1, 0.5))"
   ]
  },
  {
   "cell_type": "markdown",
   "metadata": {},
   "source": [
    "We may want to modify the colours, so we add the line color and select which ones we want to use. You can see examples of colours available [here](https://matplotlib.org/stable/tutorials/colors/colors.html)"
   ]
  },
  {
   "cell_type": "code",
   "execution_count": 38,
   "metadata": {},
   "outputs": [
    {
     "data": {
      "text/plain": [
       "<matplotlib.legend.Legend at 0x7f3d6fa7b6d0>"
      ]
     },
     "execution_count": 38,
     "metadata": {},
     "output_type": "execute_result"
    },
    {
     "data": {
      "image/png": "[encoded data removed]",
      "text/plain": [
       "<Figure size 432x288 with 1 Axes>"
      ]
     },
     "metadata": {
      "needs_background": "light"
     },
     "output_type": "display_data"
    }
   ],
   "source": [
    "uganda16[['Location','eduout_prim_m','eduout_lowsec_m','eduout_upsec_m']].groupby('Location').mean().plot(kind='bar',color=['xkcd:sky blue','r','g']).legend(bbox_to_anchor=(1, 0.5))"
   ]
  },
  {
   "cell_type": "markdown",
   "metadata": {},
   "source": [
    "What if we want to see the difference of OOSC by location and gender? We could create subplots and compare the genders side by side. "
   ]
  },
  {
   "cell_type": "code",
   "execution_count": 40,
   "metadata": {},
   "outputs": [
    {
     "data": {
      "text/plain": [
       "Text(0.5, 1.0, 'Male')"
      ]
     },
     "execution_count": 40,
     "metadata": {},
     "output_type": "execute_result"
    },
    {
     "data": {
      "image/png": "[encoded data removed]",
      "text/plain": [
       "<Figure size 432x288 with 2 Axes>"
      ]
     },
     "metadata": {
      "needs_background": "light"
     },
     "output_type": "display_data"
    }
   ],
   "source": [
    "## plotting two subplots ax1 and ax2\n",
    "fig, (ax1,ax2) = plots.subplots(nrows = 1, ncols = 2,sharex=True, sharey=True)\n",
    "#use ax1 to plot girls\n",
    "uganda2[uganda2['Sex']=='Female'].groupby('Location').mean().plot(kind = 'bar', ax = ax1, legend = False)\n",
    "ax1.set_title(\"Female\")\n",
    "#use ax2 to plot boys\n",
    "uganda2[uganda2['Sex']=='Male'].groupby('Location').mean().plot(kind = 'bar', ax = ax2).legend(bbox_to_anchor=(1, 0.5))\n",
    "ax2.set_title(\"Male\")\n"
   ]
  },
  {
   "cell_type": "markdown",
   "metadata": {},
   "source": [
    "What if you want to reorganize the bars so you have a subplot for rural and a subplot for urban? "
   ]
  },
  {
   "cell_type": "code",
   "execution_count": 25,
   "metadata": {},
   "outputs": [
    {
     "data": {
      "text/plain": [
       "Text(0.5, 1.0, 'Urban')"
      ]
     },
     "execution_count": 25,
     "metadata": {},
     "output_type": "execute_result"
    },
    {
     "data": {
      "image/png": "[encoded data removed]",
      "text/plain": [
       "<Figure size 432x288 with 2 Axes>"
      ]
     },
     "metadata": {
      "needs_background": "light"
     },
     "output_type": "display_data"
    }
   ],
   "source": [
    "## plotting two subplots ax1 and ax2\n",
    "fig, (ax1,ax2) = plots.subplots(nrows = 1, ncols = 2,sharex=True, sharey=True)\n",
    "#use ax1 to plot rural\n",
    "uganda2[uganda2['Location']=='Rural'].groupby('Sex').mean().plot(kind = 'bar', ax = ax1, legend = False)\n",
    "ax1.set_title(\"Rural\")\n",
    "#use ax2 to plot urban\n",
    "uganda2[uganda2['Location']=='Urban'].groupby('Sex').mean().plot(kind = 'bar', ax = ax2).legend(bbox_to_anchor=(1, 0.5))\n",
    "ax2.set_title(\"Urban\")"
   ]
  },
  {
   "cell_type": "markdown",
   "metadata": {},
   "source": [
    "Please note that the two plots above actually present the same information, just organized in different ways. Depending on your research question, you might find one graph more informative than the other. But try to produce both for your assignment and compare them. "
   ]
  },
  {
   "cell_type": "markdown",
   "metadata": {},
   "source": [
    "### <font color = #254117>Wealth</font>"
   ]
  },
  {
   "cell_type": "code",
   "execution_count": 26,
   "metadata": {},
   "outputs": [
    {
     "data": {
      "text/plain": [
       "<matplotlib.legend.Legend at 0x7f3d9aa71ac0>"
      ]
     },
     "execution_count": 26,
     "metadata": {},
     "output_type": "execute_result"
    },
    {
     "data": {
      "image/png": "[encoded data removed]",
      "text/plain": [
       "<Figure size 432x288 with 1 Axes>"
      ]
     },
     "metadata": {
      "needs_background": "light"
     },
     "output_type": "display_data"
    }
   ],
   "source": [
    "## By running this cell,  you produce a graph of the OOSC at each level for the 5 wealth quitiles\n",
    "uganda2.groupby('Wealth').mean().plot(kind='bar').legend(bbox_to_anchor=(1, 0.5))"
   ]
  },
  {
   "cell_type": "markdown",
   "metadata": {},
   "source": [
    "Next, lets plot the average OOSC by wealth and gender, using the same method.  "
   ]
  },
  {
   "cell_type": "code",
   "execution_count": 27,
   "metadata": {},
   "outputs": [
    {
     "data": {
      "text/plain": [
       "Text(0.5, 1.0, 'Male')"
      ]
     },
     "execution_count": 27,
     "metadata": {},
     "output_type": "execute_result"
    },
    {
     "data": {
      "image/png": "[encoded data removed]",
      "text/plain": [
       "<Figure size 432x288 with 2 Axes>"
      ]
     },
     "metadata": {
      "needs_background": "light"
     },
     "output_type": "display_data"
    }
   ],
   "source": [
    "## plotting  two subplots ax1 and ax2\n",
    "fig, (ax1,ax2) = plots.subplots(nrows = 1, ncols = 2,sharex = True, sharey = True)\n",
    "#use ax1 to plot girls\n",
    "uganda2[uganda2['Sex']=='Female'].groupby('Wealth').mean().plot(kind = 'bar', ax = ax1, legend = False)\n",
    "ax1.set_title(\"Female\")\n",
    "#use ax2 to plot boys\n",
    "uganda2[uganda2['Sex']=='Male'].groupby('Wealth').mean().plot(kind = 'bar', ax = ax2).legend(bbox_to_anchor=(1.2, 0.5))\n",
    "ax2.set_title(\"Male\")\n"
   ]
  },
  {
   "cell_type": "markdown",
   "metadata": {},
   "source": [
    "Now lets reorganize the above OOSC plot by gender and wealth."
   ]
  },
  {
   "cell_type": "code",
   "execution_count": 121,
   "metadata": {},
   "outputs": [
    {
     "data": {
      "text/plain": [
       "Text(0.5, 1.0, 'Quintile 5')"
      ]
     },
     "execution_count": 121,
     "metadata": {},
     "output_type": "execute_result"
    },
    {
     "data": {
      "image/png": "[encoded data removed]",
      "text/plain": [
       "<Figure size 432x288 with 5 Axes>"
      ]
     },
     "metadata": {
      "needs_background": "light"
     },
     "output_type": "display_data"
    }
   ],
   "source": [
    "fig, (ax1,ax2,ax3,ax4,ax5) = plots.subplots(nrows = 1, ncols = 5 ,sharex = True, sharey = True)\n",
    "#use each ax to plot a quintile\n",
    "uganda16[uganda16['Wealth']=='Quintile 1'].groupby('Sex').mean().plot(kind = 'bar', ax = ax1, legend = False)\n",
    "ax1.set_title(\"Quintile 1\")\n",
    "uganda16[uganda16['Wealth']=='Quintile 2'].groupby('Sex').mean().plot(kind = 'bar', ax = ax2, legend = False)\n",
    "ax2.set_title(\"Quintile 2\")\n",
    "uganda16[uganda16['Wealth']=='Quintile 3'].groupby('Sex').mean().plot(kind = 'bar', ax = ax3, legend = False)\n",
    "ax3.set_title(\"Quintile 3\")\n",
    "uganda16[uganda16['Wealth']=='Quintile 4'].groupby('Sex').mean().plot(kind = 'bar', ax = ax4, legend = False)\n",
    "ax4.set_title(\"Quintile 4\")\n",
    "uganda16[uganda16['Wealth']=='Quintile 5'].groupby('Sex').mean().plot(kind = 'bar', ax = ax5).legend(bbox_to_anchor=(1.2, 0.5))\n",
    "ax5.set_title(\"Quintile 5\")"
   ]
  },
  {
   "cell_type": "markdown",
   "metadata": {},
   "source": [
    "This graphs looks a little bit hard to read, so we split it into two: we will separate all the out of school rates and the completion rates"
   ]
  },
  {
   "cell_type": "code",
   "execution_count": 123,
   "metadata": {},
   "outputs": [],
   "source": [
    "uganda_edout=uganda16.loc[:,['Sex','Wealth','Location','eduout_prim_m','eduout_lowsec_m','eduout_upsec_m']]"
   ]
  },
  {
   "cell_type": "code",
   "execution_count": 124,
   "metadata": {},
   "outputs": [
    {
     "data": {
      "text/plain": [
       "Text(0.5, 1.0, 'Quintile 5')"
      ]
     },
     "execution_count": 124,
     "metadata": {},
     "output_type": "execute_result"
    },
    {
     "data": {
      "image/png": "[encoded data removed]",
      "text/plain": [
       "<Figure size 432x288 with 5 Axes>"
      ]
     },
     "metadata": {
      "needs_background": "light"
     },
     "output_type": "display_data"
    }
   ],
   "source": [
    "fig, (ax1,ax2,ax3,ax4,ax5) = plots.subplots(nrows = 1, ncols = 5 ,sharex = True, sharey = True)\n",
    "#use each ax to plot a quintile\n",
    "uganda_edout[uganda_edout['Wealth']=='Quintile 1'].groupby('Sex').mean().plot(kind = 'bar', ax = ax1, legend = False)\n",
    "ax1.set_title(\"Quintile 1\")\n",
    "uganda_edout[uganda_edout['Wealth']=='Quintile 2'].groupby('Sex').mean().plot(kind = 'bar', ax = ax2, legend = False)\n",
    "ax2.set_title(\"Quintile 2\")\n",
    "uganda_edout[uganda_edout['Wealth']=='Quintile 3'].groupby('Sex').mean().plot(kind = 'bar', ax = ax3, legend = False)\n",
    "ax3.set_title(\"Quintile 3\")\n",
    "uganda_edout[uganda_edout['Wealth']=='Quintile 4'].groupby('Sex').mean().plot(kind = 'bar', ax = ax4, legend = False)\n",
    "ax4.set_title(\"Quintile 4\")\n",
    "uganda_edout[uganda_edout['Wealth']=='Quintile 5'].groupby('Sex').mean().plot(kind = 'bar', ax = ax5).legend(bbox_to_anchor=(1.2, 0.5))\n",
    "ax5.set_title(\"Quintile 5\")"
   ]
  },
  {
   "cell_type": "markdown",
   "metadata": {},
   "source": [
    "And now completion rates:"
   ]
  },
  {
   "cell_type": "code",
   "execution_count": 125,
   "metadata": {},
   "outputs": [
    {
     "data": {
      "text/plain": [
       "Text(0.5, 1.0, 'Quintile 5')"
      ]
     },
     "execution_count": 125,
     "metadata": {},
     "output_type": "execute_result"
    },
    {
     "data": {
      "image/png": "[encoded data removed]",
      "text/plain": [
       "<Figure size 432x288 with 5 Axes>"
      ]
     },
     "metadata": {
      "needs_background": "light"
     },
     "output_type": "display_data"
    }
   ],
   "source": [
    "uganda_comp=uganda16.loc[:,['Sex','Wealth','Location','comp_prim_v2_m','comp_lowsec_v2_m', 'comp_upsec_v2_m']]\n",
    "fig, (ax1,ax2,ax3,ax4,ax5) = plots.subplots(nrows = 1, ncols = 5 ,sharex = True, sharey = True)\n",
    "#use each ax to plot a quintile\n",
    "uganda_comp[uganda_comp['Wealth']=='Quintile 1'].groupby('Sex').mean().plot(kind = 'bar', ax = ax1, legend = False)\n",
    "ax1.set_title(\"Quintile 1\")\n",
    "uganda_comp[uganda_comp['Wealth']=='Quintile 2'].groupby('Sex').mean().plot(kind = 'bar', ax = ax2, legend = False)\n",
    "ax2.set_title(\"Quintile 2\")\n",
    "uganda_comp[uganda_comp['Wealth']=='Quintile 3'].groupby('Sex').mean().plot(kind = 'bar', ax = ax3, legend = False)\n",
    "ax3.set_title(\"Quintile 3\")\n",
    "uganda_comp[uganda_comp['Wealth']=='Quintile 4'].groupby('Sex').mean().plot(kind = 'bar', ax = ax4, legend = False)\n",
    "ax4.set_title(\"Quintile 4\")\n",
    "uganda_comp[uganda_comp['Wealth']=='Quintile 5'].groupby('Sex').mean().plot(kind = 'bar', ax = ax5).legend(bbox_to_anchor=(1.2, 0.5))\n",
    "ax5.set_title(\"Quintile 5\")\n"
   ]
  },
  {
   "cell_type": "markdown",
   "metadata": {},
   "source": [
    "## <font color = #254117>Interpretation</font>\n",
    "\n",
    "Based on the above visualizations, we can see that the out of school children rate does not look so different between rural and urban locations when gender is not taken into consideration.\n",
    "\n",
    "When looking at the difference in gender and locations, we can see that within each gender, the OOSC for rural and urban still looks similar, especially at the lower and upper secondary levels. For female students, the OOSC rate at primary level is lower than male students, regardless of location. However, the OOSC rate at lower and upper secondary levels are higher for female, regardless of location. \n",
    "\n",
    "When looking at the difference in gender and wealth, we can see that the OOSC rate is lower for males at the upper secondary level, regardless of wealth. However, the OOSC rate is lower for girls for the primary level, for all wealth quintiles except for quintile 1. When we compare the OOSC rate for the two extremes in terms of wealth, we can see that there is a sizeable OOSC rate gap between girls who are in Quintile 1 and Quintile 5, at the primary and upper secondary level. The most substantial gender gap of OOSC rate occurs for students in Quintile 1 and Quintile 2, at the upper secondary level. \n",
    "\n"
   ]
  },
  {
   "cell_type": "markdown",
   "metadata": {},
   "source": [
    "### <font color = #254117>Good Job! You have successfully completed this tutorial, now is time to try these methods on your own and complete the Notebook assignment </font>"
   ]
  },
  {
   "cell_type": "markdown",
   "metadata": {},
   "source": [
    "\n",
    "## <font color = #254117>Feedback</font>\n",
    "Thank you so much for completing the Notebook! The development team would appreciate your feedback to get a sense of how the notebook experience was! All feedback is confidential and will be used to guide future developers in creating a Notebook. We hope you learned a lot from this experience feel free to reach out at (evalencialopez@berkeley.edu) or [Data Peer Consultants](https://data.berkeley.edu/academics/resources/peer-consulting) if you have any questions about the development or use of this Notebook."
   ]
  },
  {
   "cell_type": "code",
   "execution_count": null,
   "metadata": {},
   "outputs": [],
   "source": []
  }
 ],
 "metadata": {
  "kernelspec": {
   "display_name": "Python 3",
   "language": "python",
   "name": "python3"
  },
  "language_info": {
   "codemirror_mode": {
    "name": "ipython",
    "version": 3
   },
   "file_extension": ".py",
   "mimetype": "text/x-python",
   "name": "python",
   "nbconvert_exporter": "python",
   "pygments_lexer": "ipython3",
   "version": "3.8.5"
  }
 },
 "nbformat": 4,
 "nbformat_minor": 2
}
