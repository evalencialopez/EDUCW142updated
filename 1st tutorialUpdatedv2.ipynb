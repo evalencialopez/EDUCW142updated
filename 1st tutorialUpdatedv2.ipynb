{
 "cells": [
  {
   "cell_type": "markdown",
   "metadata": {},
   "source": [
    "# Hello!\n",
    "\n",
    "\n",
    "Welcome to EDUC W142! \n",
    "\n",
    "In this handout, we are going to learn a little bit\n",
    "more about the sources of data and the indicators most commonly used by international organisations to measure educational inequities. We will also learn a little bit\n",
    "more about the World Inequality Database in Education (WIDE), a resource com-\n",
    "piled by UNESCO and the UNESCO Institute of Statistics to support the monitoring\n",
    "of Sustainable Development Goal (SDG) 4: \"Ensure inclusive and equitable quality\n",
    "education and promote lifelong learning opportunities for all\".\n",
    "\n",
    "First of all, bear in mind that enacting change is always di\u000ecult, and it is\n",
    "impossible to do if there is no information about existing problems. This is where indi-\n",
    "cators come in. They are statistics that describe key aspects of schooling which permit\n",
    "the monitoring and evaluation of components of the educational system (e.g.teachers,\n",
    "programs, schools, students, policies). If well-chosen, a system of indicators can \"high-\n",
    "light disparities, provide a way to explore potential causes, and point toward possible\n",
    "improvements\""
   ]
  },
  {
   "cell_type": "markdown",
   "metadata": {},
   "source": [
    "# 1. Sources of Data"
   ]
  },
  {
   "cell_type": "markdown",
   "metadata": {},
   "source": [
    "Educational indicators are usually estimated from three main sources: house-\n",
    "hold surveys, census and administrative records. We describe each of these brie\n",
    "y. For our project, the main source of data will be the World Inequality Database in Ed-\n",
    "ucation (WIDE), a repository which integrates information from household surveys."
   ]
  },
  {
   "cell_type": "markdown",
   "metadata": {},
   "source": [
    "## Census"
   ]
  },
  {
   "cell_type": "markdown",
   "metadata": {},
   "source": [
    "Most countries collect a census every 10 years. These sources of information\n",
    "provide comprehensive statistical information for economical and social development\n",
    "planning of a country. For example, many nations use the results of their decennial\n",
    "census to allocate funding for education, health services and delineating electoral\n",
    "districts. However, collecting censuses often requires a large amount of resources to\n",
    "collect the information of every individual living in the country. Just think about\n",
    "the number of people that has to be trained to interview each household or input the\n",
    "information into computers."
   ]
  },
  {
   "cell_type": "markdown",
   "metadata": {},
   "source": [
    "### Where to find data"
   ]
  },
  {
   "cell_type": "markdown",
   "metadata": {},
   "source": [
    "IPUMS : censuses from the US and many more!\n",
    "      https://www.ipums.org/\n",
    "      \n",
    "International IPUMS https://international.ipums.org/international/\n",
    "\n"
   ]
  },
  {
   "cell_type": "markdown",
   "metadata": {},
   "source": [
    "## Household Surveys"
   ]
  },
  {
   "cell_type": "markdown",
   "metadata": {},
   "source": [
    "Household surveys are data collected from a sample of households in a pop-\n",
    "ulation and then inferences are made to the whole population. Because in sample\n",
    "surveys there are smaller workloads for interviewers and a longer time period as-\n",
    "signed to data collection, most subject matters can be covered in greater detail than\n",
    "in censuses. WIDE relies mostly on the Demographic and Health Surveys (DHS),\n",
    "which are \"nationally-representative household surveys that provide data for a wide\n",
    "range of monitoring and impact evaluation indicators in the areas of population,\n",
    "health, and nutrition.\". It also compiles information from the Multiple Indicator\n",
    "Cluster Surveys (MICS) collected by UNICEF.\n"
   ]
  },
  {
   "cell_type": "markdown",
   "metadata": {},
   "source": [
    "### Where to find data"
   ]
  },
  {
   "cell_type": "markdown",
   "metadata": {},
   "source": [
    "Demographic and Health surveys http://www.dhsprogram.com/\n",
    "\n",
    "-World bank http://data.worldbank.org/\n",
    "\n",
    "-Multiple Indicator Cluster Surveys (MICS) https://mics.unicef.org\n",
    "\n",
    "-LSMS (search for LSMS on the world bank data page)\n",
    "\n",
    "-Rand public-use databases http://www.rand.org/labor/data.html"
   ]
  },
  {
   "cell_type": "markdown",
   "metadata": {},
   "source": [
    "## Administrative Data"
   ]
  },
  {
   "cell_type": "markdown",
   "metadata": {},
   "source": [
    "Administrative data generally includes information from a census of schools\n",
    "and include information related to administering programs. There are several advantages of using this type of data: since most governments collect comprehensive\n",
    "information about students, schools and teachers, it is possible to study the effects of\n",
    "policies in groups that are usually left out or not well included in household surveys\n",
    "(for example the very rich or the very poor). Another advantage is the large sample\n",
    "sizes, which allows researchers to gain statistical power."
   ]
  },
  {
   "cell_type": "markdown",
   "metadata": {},
   "source": [
    "### Where to find data"
   ]
  },
  {
   "cell_type": "markdown",
   "metadata": {},
   "source": [
    "Data.gov: Datasets generated by the executive branch of the\n",
    "US government http://www.data.gov/\n",
    "\n",
    "ICPSR http://www.icpsr.umich.edu/icpsrweb/ICPSR/: A data repository with many data sets on lots of subjects"
   ]
  },
  {
   "cell_type": "markdown",
   "metadata": {},
   "source": [
    "# The World Inequality Database in Education (WIDE)"
   ]
  },
  {
   "cell_type": "markdown",
   "metadata": {},
   "source": [
    "WIDE brings together data from Demographic and Health Surveys (DHS),\n",
    "Multiple Indicator Cluster Surveys (MICS), other national household surveys and\n",
    "learning assessments from over 160 countries. Users can compare education outcomes\n",
    "between countries, and between groups within countries, according to factors that are\n",
    "associated with inequality, including wealth, gender, and ethnicity and location. It is\n",
    "currently used to support the monitoring of the Sustainable Development Goal (SDG)\n",
    "4: \"Ensure inclusive and equitable quality education and promote lifelong learning\n",
    "opportunities for all\" For the assignment, you will be asked to identify one set of indicators (one\n",
    "set is composed of three indicators) and analyse it through three characteristics of\n",
    "your choice (e.g. Sex, wealth, location, for example). If you are working in pairs,\n",
    "you are expected to work with two sets of indicators. You can see a list of available\n",
    "indicators here (https://www.education-inequalities.org/indicators)."
   ]
  },
  {
   "cell_type": "markdown",
   "metadata": {},
   "source": [
    "Before we proceed with coding, we should clarify what we mean by indicators. "
   ]
  },
  {
   "cell_type": "markdown",
   "metadata": {},
   "source": [
    "# What is an indicator?"
   ]
  },
  {
   "cell_type": "markdown",
   "metadata": {},
   "source": [
    "An indicator is a measure or a tool that is used to track progress toward objectives or monitor conditions over time of a country's educational system. To be useful, indicators should have certain characteristics. According to the UNESCO International Institute for Educational Planning and the United States National Academies of Sciences, a system of indicators should:\n",
    "1. be policy-relevant (identify problematic or unacceptable situations, for example)\n",
    "2. able to measure information without distortions\n",
    "3. be related to other indicators and allow a global analysis of the system\n",
    "4. Be precise, comparable, scientifically sound and reliable.\n",
    "5. measure contextual and structural characteristics of or affecting the educational system (e.g racial segregation and concentrated poverty)\n",
    "6. meet policy concerns, and to answer the questions leading to its choice\n",
    "\n",
    "Indicators play a central role in the measuring and evaluation of the educational system. \n"
   ]
  },
  {
   "cell_type": "markdown",
   "metadata": {},
   "source": [
    "# System of indicators"
   ]
  },
  {
   "cell_type": "markdown",
   "metadata": {},
   "source": [
    "If you want to explore more here are some examples of countries (or regions) that have developed a system of indicators:\n",
    "1. Colombia (in Spanish): https://geoportal.dane.gov.co/geovisores/sociedad/indicadores-regionales/\n",
    "2. The European Union (several languages): https://op.europa.eu/webpub/eac/education-and-training-monitor-2020/en/\n",
    "3. India: https://dashboard.udiseplus.gov.in/#/home\n",
    "4. South Africa: http://www.statssa.gov.za/?page_id=737&id=4=4\n",
    "5. Countries of the Pacific: https://pacificdata.org/dashboard/sdg-4-quality-education"
   ]
  },
  {
   "cell_type": "code",
   "execution_count": null,
   "metadata": {},
   "outputs": [],
   "source": [
    "import numpy as np\n",
    "import pandas as pd\n",
    "import matplotlib.pyplot as plt\n",
    "import os, time, math, random\n",
    "import seaborn as sns\n",
    "import scipy"
   ]
  },
  {
   "cell_type": "code",
   "execution_count": null,
   "metadata": {},
   "outputs": [],
   "source": [
    "!wget https://us-east-1-unesco-wide.s3.us-east-1.amazonaws.com/WIDE_2021-01-28_v1.csv -q --show-progress\n",
    "!wget https://us-east-1-unesco-wide.s3.us-east-1.amazonaws.com/WIDE_metadata_2021-01-29.csv -q --show-progress"
   ]
  },
  {
   "cell_type": "code",
   "execution_count": null,
   "metadata": {},
   "outputs": [],
   "source": [
    "wide=pd.read_csv(\"WIDE_2021-01-28_v1.csv\", low_memory=False)"
   ]
  },
  {
   "cell_type": "code",
   "execution_count": null,
   "metadata": {},
   "outputs": [],
   "source": [
    "wide.head(3)"
   ]
  },
  {
   "cell_type": "code",
   "execution_count": null,
   "metadata": {},
   "outputs": [],
   "source": [
    "wide=wide\n",
    "YEAR = 2018\n",
    "EXPLORED_DIFFERENCE = 'Wealth'\n",
    "nation_to_explore = 'Argentina'\n",
    "wide = wide[wide['year'] == YEAR]\n",
    "wide = wide[wide['category'] == EXPLORED_DIFFERENCE]\n",
    "wide = wide[wide['country'] == nation_to_explore]\n",
    "#scipy.stats.variation()\n",
    "wide = wide[wide['survey'] == 'PISA']\n",
    "wide.dropna(axis=1)\n",
    "gross_inequality = []\n",
    "subset_wide =  wide.dropna(axis=1).select_dtypes(exclude='object').drop(['year'],axis=1)\n",
    "for indicator in subset_wide:\n",
    "    if pd.isnull(scipy.stats.variation(subset_wide[indicator])): \n",
    "        #print(scipy.stats.variation(subset_wide[indicator]).dtype)\n",
    "        continue\n",
    "    if \"_m\" in indicator:\n",
    "        #print(indicator, scipy.stats.variation(subset_wide[indicator]))\n",
    "        gross_inequality.append(scipy.stats.variation(subset_wide[indicator]))\n",
    "        #print(wide['Wealth'],subset_wide[indicator])\n",
    "        splot = sns.barplot(x=[1,2,3,4,5],y=subset_wide[indicator])\n",
    "        plt.title(\"Argentina Student performance on \"+indicator+\" by income quintile.\")\n",
    "        plt.xlabel('Quintile'); plt.ylabel('Percentage reaching standard.')\n",
    "        for p in splot.patches: # Annotate bars\n",
    "            splot.annotate(format(p.get_height(), '.3f'), \n",
    "                           (p.get_x() + p.get_width() / 2., p.get_height()), \n",
    "                           ha = 'center', va = 'center', \n",
    "                           xytext = (0, 9), \n",
    "                           textcoords = 'offset points')\n",
    "        plt.show()\n",
    "#print(scipy.stats.variation(subset_wide[indicator]))\n",
    "if len(gross_inequality) > 0:\n",
    "    gross_inequality = np.mean(gross_inequality)\n",
    "print(\"Gross Inequality:\",gross_inequality)"
   ]
  },
  {
   "cell_type": "code",
   "execution_count": null,
   "metadata": {},
   "outputs": [],
   "source": [
    "wide=wide\n",
    "YEAR = 2019\n",
    "EXPLORED_DIFFERENCE = 'Wealth'\n",
    "nation_to_explore = 'Argentina'\n",
    "wide = wide[wide['year'] == YEAR]\n",
    "wide = wide[wide['category'] == EXPLORED_DIFFERENCE]\n",
    "wide = wide[wide['country'] == nation_to_explore]\n",
    "#scipy.stats.variation()\n",
    "wide = wide[wide['survey'] == 'EPH']\n",
    "wide.dropna(axis=1)\n",
    "gross_inequality = []\n",
    "subset_wide =  wide.dropna(axis=1).select_dtypes(exclude='object').drop(['year'],axis=1)\n",
    "for indicator in subset_wide:\n",
    "    if pd.isnull(scipy.stats.variation(subset_wide[indicator])): \n",
    "        #print(scipy.stats.variation(subset_wide[indicator]).dtype)\n",
    "        continue\n",
    "    if \"_m\" in indicator:\n",
    "        #print(indicator, scipy.stats.variation(subset_wide[indicator]))\n",
    "        gross_inequality.append(scipy.stats.variation(subset_wide[indicator]))\n",
    "        #print(wide['Wealth'],subset_wide[indicator])\n",
    "        splot = sns.barplot(x=[1,2,3,4,5],y=subset_wide[indicator])\n",
    "        plt.title(\"Argentina's performance on \"+indicator+\" by income quintile.\")\n",
    "        plt.xlabel('Quintile'); plt.ylabel('Percentage')\n",
    "        for p in splot.patches: # Annotate bars\n",
    "            splot.annotate(format(p.get_height(), '.3f'), \n",
    "                           (p.get_x() + p.get_width() / 2., p.get_height()), \n",
    "                           ha = 'center', va = 'center', \n",
    "                           xytext = (0, 9), \n",
    "                           textcoords = 'offset points')\n",
    "        plt.show()\n",
    "#print(scipy.stats.variation(subset_wide[indicator]))\n",
    "if len(gross_inequality) > 0:\n",
    "    gross_inequality = np.mean(gross_inequality)\n",
    "print(\"Gross Inequality:\",gross_inequality)"
   ]
  },
  {
   "cell_type": "markdown",
   "metadata": {},
   "source": [
    "Now, we are going to learn how to obtain data from WIDE"
   ]
  },
  {
   "cell_type": "code",
   "execution_count": null,
   "metadata": {},
   "outputs": [],
   "source": [
    "#Just run this cell\n",
    "\n",
    "%matplotlib inline\n",
    "import pandas as pd\n",
    "import numpy as np\n",
    "from datascience import *\n",
    "import matplotlib.pyplot as plots\n",
    "import math as m\n",
    "import qgrid as q\n",
    "import sys\n",
    "sys.path.insert(0, \"development\")\n",
    "import warnings\n",
    "warnings.filterwarnings('ignore')\n",
    "from IPython.display import HTML"
   ]
  },
  {
   "cell_type": "markdown",
   "metadata": {},
   "source": [
    "We have imported libraries we will be using in this and the next tutorial. These libraries were: panda, numpy, matplot, math, qgrid and sys. Do not wory today about what these mean, we will go into more detail in the next tutorial. For now, it is enough to know that you will need them to run your code and obtain the data you will need for your assignment. "
   ]
  },
  {
   "cell_type": "markdown",
   "metadata": {},
   "source": [
    "We are going to explore the dataset and the information it has and we will select a country we want to analyse. To do that, we first obtain the list of variables available in the dataset: "
   ]
  },
  {
   "cell_type": "code",
   "execution_count": null,
   "metadata": {},
   "outputs": [],
   "source": [
    "## Run this cell\n",
    "wide.columns"
   ]
  },
  {
   "cell_type": "markdown",
   "metadata": {},
   "source": [
    "Now, we want to know what countries are available. "
   ]
  },
  {
   "cell_type": "code",
   "execution_count": null,
   "metadata": {},
   "outputs": [],
   "source": [
    "countrynames = wide[\"country\"].unique()\n",
    "countrynames"
   ]
  },
  {
   "cell_type": "markdown",
   "metadata": {},
   "source": [
    "We can display information about specific columns using the function .iloc:"
   ]
  },
  {
   "cell_type": "code",
   "execution_count": null,
   "metadata": {},
   "outputs": [],
   "source": [
    "# Accessing columns 1, 2, adn 7 via column position and show the top five rows\n",
    "\n",
    "wide.iloc[:, [1, 3, 7]].head()"
   ]
  },
  {
   "cell_type": "markdown",
   "metadata": {},
   "source": [
    "Or using the function loc:"
   ]
  },
  {
   "cell_type": "code",
   "execution_count": null,
   "metadata": {},
   "outputs": [],
   "source": [
    "wide.loc[wide.region_group=='Central and Southern Asia'].head(3)"
   ]
  },
  {
   "cell_type": "markdown",
   "metadata": {},
   "source": [
    "To continue with our exercise before, we will select Argentina:"
   ]
  },
  {
   "cell_type": "code",
   "execution_count": null,
   "metadata": {},
   "outputs": [],
   "source": [
    "Argentina = wide.loc[wide.country =='Argentina',['year','Sex','Wealth','Location','eduout_prim_m','eduout_lowsec_m',\n",
    "       'eduout_upsec_m', 'comp_prim_v2_m', 'comp_lowsec_v2_m', 'comp_upsec_v2_m']]\n",
    "Argentina"
   ]
  },
  {
   "cell_type": "markdown",
   "metadata": {},
   "source": [
    "Now, we are going to do a little exercise. In teams, go to the Wide dataset and select a random country of your choice. It should be LMIC and create a dataset from that country with the variables year, sex and wealth. "
   ]
  },
  {
   "cell_type": "code",
   "execution_count": null,
   "metadata": {},
   "outputs": [],
   "source": [
    "Afghanistan = wide.loc[wide.country =='Afghanistan',['country','year','Sex','Wealth']]\n",
    "Afghanistan"
   ]
  },
  {
   "cell_type": "code",
   "execution_count": null,
   "metadata": {},
   "outputs": [],
   "source": []
  },
  {
   "cell_type": "code",
   "execution_count": null,
   "metadata": {},
   "outputs": [],
   "source": []
  }
 ],
 "metadata": {
  "kernelspec": {
   "display_name": "Python 3 (ipykernel)",
   "language": "python",
   "name": "python3"
  },
  "language_info": {
   "codemirror_mode": {
    "name": "ipython",
    "version": 3
   },
   "file_extension": ".py",
   "mimetype": "text/x-python",
   "name": "python",
   "nbconvert_exporter": "python",
   "pygments_lexer": "ipython3",
   "version": "3.9.7"
  }
 },
 "nbformat": 4,
 "nbformat_minor": 4
}
